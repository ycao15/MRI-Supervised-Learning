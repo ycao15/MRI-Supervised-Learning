{
  "nbformat": 4,
  "nbformat_minor": 0,
  "metadata": {
    "colab": {
      "name": "neuralnet_keras.ipynb",
      "version": "0.3.2",
      "views": {},
      "default_view": {},
      "provenance": [],
      "collapsed_sections": [
        "jMJq3v4r_-Yq",
        "LZf0zeO8B_q9",
        "6ukvybAGANtP",
        "MYlw_B9H2fm6"
      ]
    },
    "kernelspec": {
      "name": "python3",
      "display_name": "Python 3"
    },
    "accelerator": "GPU"
  },
  "cells": [
    {
      "metadata": {
        "id": "jMJq3v4r_-Yq",
        "colab_type": "text"
      },
      "cell_type": "markdown",
      "source": [
        "## Import Libraries"
      ]
    },
    {
      "metadata": {
        "id": "wOwBRIs8_ZIC",
        "colab_type": "code",
        "colab": {
          "autoexec": {
            "startup": false,
            "wait_interval": 0
          },
          "base_uri": "https://localhost:8080/",
          "height": 54
        },
        "outputId": "761b1c49-8007-4d61-e931-f6b3eb848886",
        "executionInfo": {
          "status": "ok",
          "timestamp": 1527027851859,
          "user_tz": 420,
          "elapsed": 1254,
          "user": {
            "displayName": "YUCHING CAO",
            "photoUrl": "https://lh3.googleusercontent.com/a/default-user=s128",
            "userId": "114408907584152638865"
          }
        }
      },
      "cell_type": "code",
      "source": [
        "import numpy as np\n",
        "from scipy import stats\n",
        "from sklearn.neural_network import MLPClassifier\n",
        "from sklearn.model_selection import train_test_split, GridSearchCV, StratifiedKFold, cross_val_score\n",
        "from sklearn.preprocessing import StandardScaler\n",
        "\n",
        "from keras.models import Sequential\n",
        "from keras.layers import Dense, Dropout\n",
        "from keras.wrappers.scikit_learn import KerasClassifier"
      ],
      "execution_count": 2,
      "outputs": [
        {
          "output_type": "stream",
          "text": [
            "Using TensorFlow backend.\n"
          ],
          "name": "stderr"
        }
      ]
    },
    {
      "metadata": {
        "id": "LZf0zeO8B_q9",
        "colab_type": "text"
      },
      "cell_type": "markdown",
      "source": [
        "## Setup File Reading From Google Drive"
      ]
    },
    {
      "metadata": {
        "id": "GK4h9WTvCEDz",
        "colab_type": "code",
        "colab": {
          "autoexec": {
            "startup": false,
            "wait_interval": 0
          }
        }
      },
      "cell_type": "code",
      "source": [
        "!pip install -U -q PyDrive\n",
        "# !gcloud config set project\n",
        "import os\n",
        "from pydrive.auth import GoogleAuth\n",
        "from pydrive.drive import GoogleDrive\n",
        "from google.colab import auth\n",
        "from oauth2client.client import GoogleCredentials\n",
        "\n",
        "# 1. Authenticate and create the PyDrive client.\n",
        "auth.authenticate_user()\n",
        "gauth = GoogleAuth()\n",
        "gauth.credentials = GoogleCredentials.get_application_default()\n",
        "drive = GoogleDrive(gauth)\n",
        "\n",
        "# choose a local (colab) directory to store the data.\n",
        "local_download_path = os.path.expanduser('./data')\n",
        "try:\n",
        "  os.makedirs(local_download_path)\n",
        "except: pass\n",
        "\n",
        "# 2. Auto-iterate using the query syntax\n",
        "#    https://developers.google.com/drive/v2/web/search-parameters\n",
        "file_list = drive.ListFile(\n",
        "    {'q': \"'1FjWwOPe1_f3tSHEAg4FlDlX0-D2YjJc4' in parents\"}).GetList()\n",
        "\n",
        "fname = ''\n",
        "for f in file_list:\n",
        "  # 3. Create & download by id.\n",
        "  if f['title'] == 'train_data_final_50k.csv':\n",
        "    #print('title: %s, id: %s' % (f['title'], f['id']))\n",
        "    fname = os.path.join(local_download_path, f['title'])\n",
        "    #print('downloading to {}'.format(fname))\n",
        "    f_ = drive.CreateFile({'id': f['id']})\n",
        "    f_.GetContentFile(fname)"
      ],
      "execution_count": 0,
      "outputs": []
    },
    {
      "metadata": {
        "id": "6ukvybAGANtP",
        "colab_type": "text"
      },
      "cell_type": "markdown",
      "source": [
        "## Get the Data"
      ]
    },
    {
      "metadata": {
        "id": "O_O4dWR7AMQg",
        "colab_type": "code",
        "colab": {
          "autoexec": {
            "startup": false,
            "wait_interval": 0
          },
          "base_uri": "https://localhost:8080/",
          "height": 71
        },
        "outputId": "08bf74b7-5cf7-4e23-c6f4-f5daa09e2093",
        "executionInfo": {
          "status": "ok",
          "timestamp": 1527027886246,
          "user_tz": 420,
          "elapsed": 25078,
          "user": {
            "displayName": "YUCHING CAO",
            "photoUrl": "https://lh3.googleusercontent.com/a/default-user=s128",
            "userId": "114408907584152638865"
          }
        }
      },
      "cell_type": "code",
      "source": [
        "DATA_FILE = fname\n",
        "DATA_SIZE = 50000\n",
        "num_data_points = 50000\n",
        "\n",
        "skip_rows = DATA_SIZE - num_data_points\n",
        "\n",
        "data = np.loadtxt(DATA_FILE, delimiter=',', skiprows=skip_rows, usecols=range(4,622))\n",
        "labels = np.loadtxt(DATA_FILE, delimiter=',', skiprows=skip_rows, usecols=622)\n",
        "X_train, X_test, y_train, y_test = train_test_split(data, labels, train_size=0.7, stratify=labels)\n",
        "\n",
        "\n",
        "scaler = StandardScaler()\n",
        "scaler.fit(X_train) # data = preprocessing.scale(data)\n",
        "X_train, X_test = scaler.transform(X_train), scaler.transform(X_test)"
      ],
      "execution_count": 4,
      "outputs": [
        {
          "output_type": "stream",
          "text": [
            "/usr/local/lib/python3.6/dist-packages/sklearn/model_selection/_split.py:2026: FutureWarning: From version 0.21, test_size will always complement train_size unless both are specified.\n",
            "  FutureWarning)\n"
          ],
          "name": "stderr"
        }
      ]
    },
    {
      "metadata": {
        "id": "MYlw_B9H2fm6",
        "colab_type": "text"
      },
      "cell_type": "markdown",
      "source": [
        "## Reduce Dimensionality"
      ]
    },
    {
      "metadata": {
        "id": "acv7GaN_2huo",
        "colab_type": "code",
        "colab": {
          "autoexec": {
            "startup": false,
            "wait_interval": 0
          }
        }
      },
      "cell_type": "code",
      "source": [
        "from sklearn import random_projection\n",
        "from sklearn.decomposition import TruncatedSVD\n",
        "\n",
        "svd = TruncatedSVD(n_components=90)\n",
        "X_train_svd = svd.fit_transform(X_train)\n",
        "X_test_svd = svd.transform(X_test)"
      ],
      "execution_count": 0,
      "outputs": []
    },
    {
      "metadata": {
        "id": "7LsdcfoTz3OS",
        "colab_type": "text"
      },
      "cell_type": "markdown",
      "source": [
        "## Create the model"
      ]
    },
    {
      "metadata": {
        "id": "iWHrAhJ-z9Dp",
        "colab_type": "code",
        "colab": {
          "autoexec": {
            "startup": false,
            "wait_interval": 0
          },
          "base_uri": "https://localhost:8080/",
          "height": 51
        },
        "outputId": "cf58df14-7eb9-401f-ba8c-335f9c10d585",
        "executionInfo": {
          "status": "ok",
          "timestamp": 1527028090861,
          "user_tz": 420,
          "elapsed": 376,
          "user": {
            "displayName": "YUCHING CAO",
            "photoUrl": "https://lh3.googleusercontent.com/a/default-user=s128",
            "userId": "114408907584152638865"
          }
        }
      },
      "cell_type": "code",
      "source": [
        "def create_model():\n",
        "  model = Sequential()\n",
        "  model.add(Dense(units=100, input_dim=X_train_svd.shape[1], activation='relu')) # 85\n",
        "  model.add(Dropout(0.02)) # 0.025\n",
        "  model.add(Dense(units=50, activation='relu')) # 34\n",
        "  model.add(Dropout(0.02)) \n",
        "  model.add(Dense(units=1, activation='sigmoid'))\n",
        "\n",
        "  model.compile(loss='binary_crossentropy', optimizer='rmsprop', metrics=['accuracy'])\n",
        "  return model"
      ],
      "execution_count": 22,
      "outputs": [
        {
          "output_type": "stream",
          "text": [
            "CPU times: user 128 ms, sys: 3 ms, total: 131 ms\n",
            "Wall time: 135 ms\n"
          ],
          "name": "stdout"
        }
      ]
    },
    {
      "metadata": {
        "id": "1Aa2HTvJKzau",
        "colab_type": "text"
      },
      "cell_type": "markdown",
      "source": [
        "## Evaluate the model"
      ]
    },
    {
      "metadata": {
        "id": "kQpHb6Whjc_h",
        "colab_type": "code",
        "colab": {
          "autoexec": {
            "startup": false,
            "wait_interval": 0
          }
        }
      },
      "cell_type": "code",
      "source": [
        "model = create_model()"
      ],
      "execution_count": 0,
      "outputs": []
    },
    {
      "metadata": {
        "id": "w676OFh78-oT",
        "colab_type": "code",
        "colab": {
          "autoexec": {
            "startup": false,
            "wait_interval": 0
          },
          "base_uri": "https://localhost:8080/",
          "height": 102
        },
        "outputId": "a9d44be7-d759-431c-a063-a27ae86bafb5",
        "executionInfo": {
          "status": "ok",
          "timestamp": 1527028105657,
          "user_tz": 420,
          "elapsed": 14696,
          "user": {
            "displayName": "YUCHING CAO",
            "photoUrl": "https://lh3.googleusercontent.com/a/default-user=s128",
            "userId": "114408907584152638865"
          }
        }
      },
      "cell_type": "code",
      "source": [
        "%%time \n",
        "\n",
        "model.fit(X_train_svd, y_train, epochs=13, batch_size=200, verbose=0)\n",
        "score = model.evaluate(X_test_svd, y_test, batch_size=200)\n",
        "\n",
        "print(\"score: %f\" % score[1])\n",
        "print(\"loss: %f\" % score[0])"
      ],
      "execution_count": 23,
      "outputs": [
        {
          "output_type": "stream",
          "text": [
            "15000/15000 [==============================] - 0s 20us/step\n",
            "score: 0.952333\n",
            "loss: 0.133403\n",
            "CPU times: user 16.5 s, sys: 2.79 s, total: 19.3 s\n",
            "Wall time: 14.4 s\n"
          ],
          "name": "stdout"
        }
      ]
    },
    {
      "metadata": {
        "id": "5ZLFxLPVeram",
        "colab_type": "text"
      },
      "cell_type": "markdown",
      "source": [
        "## Logistic Regression"
      ]
    },
    {
      "metadata": {
        "id": "vxfJXaNSeuL8",
        "colab_type": "code",
        "colab": {
          "autoexec": {
            "startup": false,
            "wait_interval": 0
          }
        }
      },
      "cell_type": "code",
      "source": [
        "log = Sequential()\n",
        "log.add(Dense(units=1, input_dim=X_train_svd.shape[1], activation='sigmoid'))\n",
        "log.compile(loss='binary_crossentropy', optimizer='rmsprop', metrics=['accuracy'])"
      ],
      "execution_count": 0,
      "outputs": []
    },
    {
      "metadata": {
        "id": "-NNFVOFhe8hA",
        "colab_type": "code",
        "colab": {
          "autoexec": {
            "startup": false,
            "wait_interval": 0
          },
          "base_uri": "https://localhost:8080/",
          "height": 102
        },
        "outputId": "01f84495-e560-4157-987d-61da57b04f4d",
        "executionInfo": {
          "status": "ok",
          "timestamp": 1527028166967,
          "user_tz": 420,
          "elapsed": 12650,
          "user": {
            "displayName": "YUCHING CAO",
            "photoUrl": "https://lh3.googleusercontent.com/a/default-user=s128",
            "userId": "114408907584152638865"
          }
        }
      },
      "cell_type": "code",
      "source": [
        "%%time\n",
        "log.fit(X_train_svd, y_train, epochs=15, batch_size=200, verbose=0) #, validation_data=(X_test, y_test))\n",
        "score = log.evaluate(X_test_svd, y_test, batch_size=200)\n",
        "print(\"score: %f\" % score[1])\n",
        "print(\"loss: %f\" % score[0])"
      ],
      "execution_count": 25,
      "outputs": [
        {
          "output_type": "stream",
          "text": [
            "15000/15000 [==============================] - 0s 19us/step\n",
            "score: 0.823733\n",
            "loss: 0.388636\n",
            "CPU times: user 15 s, sys: 2.32 s, total: 17.4 s\n",
            "Wall time: 12.4 s\n"
          ],
          "name": "stdout"
        }
      ]
    },
    {
      "metadata": {
        "id": "co2Xg3Ol1EfA",
        "colab_type": "code",
        "colab": {
          "autoexec": {
            "startup": false,
            "wait_interval": 0
          }
        }
      },
      "cell_type": "code",
      "source": [
        ""
      ],
      "execution_count": 0,
      "outputs": []
    }
  ]
}