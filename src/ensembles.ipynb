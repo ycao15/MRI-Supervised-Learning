{
  "nbformat": 4,
  "nbformat_minor": 0,
  "metadata": {
    "colab": {
      "name": "ensembles.ipynb",
      "version": "0.3.2",
      "views": {},
      "default_view": {},
      "provenance": [],
      "collapsed_sections": [
        "jMJq3v4r_-Yq",
        "LZf0zeO8B_q9",
        "6ukvybAGANtP",
        "S185RffKB3T4"
      ]
    },
    "kernelspec": {
      "name": "python3",
      "display_name": "Python 3"
    }
  },
  "cells": [
    {
      "metadata": {
        "id": "jMJq3v4r_-Yq",
        "colab_type": "text"
      },
      "cell_type": "markdown",
      "source": [
        "## Import Libraries"
      ]
    },
    {
      "metadata": {
        "id": "wOwBRIs8_ZIC",
        "colab_type": "code",
        "colab": {
          "autoexec": {
            "startup": false,
            "wait_interval": 0
          }
        }
      },
      "cell_type": "code",
      "source": [
        "import numpy as np\n",
        "from scipy import stats\n",
        "\n",
        "from sklearn.ensemble import AdaBoostClassifier, BaggingClassifier\n",
        "from sklearn.ensemble import GradientBoostingClassifier, RandomForestClassifier\n",
        "from sklearn.ensemble import ExtraTreesClassifier\n",
        "from sklearn.tree import DecisionTreeClassifier\n",
        "\n",
        "from sklearn.preprocessing import StandardScaler\n",
        "from sklearn.model_selection import train_test_split, RandomizedSearchCV\n",
        "\n",
        "from sklearn.externals import joblib\n",
        "from google.colab import files"
      ],
      "execution_count": 0,
      "outputs": []
    },
    {
      "metadata": {
        "id": "LZf0zeO8B_q9",
        "colab_type": "text"
      },
      "cell_type": "markdown",
      "source": [
        "## Setup File Reading From Google Drive"
      ]
    },
    {
      "metadata": {
        "id": "GK4h9WTvCEDz",
        "colab_type": "code",
        "colab": {
          "autoexec": {
            "startup": false,
            "wait_interval": 0
          }
        }
      },
      "cell_type": "code",
      "source": [
        "!pip install -U -q PyDrive\n",
        "# !gcloud config set project\n",
        "import os\n",
        "from pydrive.auth import GoogleAuth\n",
        "from pydrive.drive import GoogleDrive\n",
        "from google.colab import auth\n",
        "from oauth2client.client import GoogleCredentials\n",
        "\n",
        "# 1. Authenticate and create the PyDrive client.\n",
        "auth.authenticate_user()\n",
        "gauth = GoogleAuth()\n",
        "gauth.credentials = GoogleCredentials.get_application_default()\n",
        "drive = GoogleDrive(gauth)\n",
        "\n",
        "# choose a local (colab) directory to store the data.\n",
        "local_download_path = os.path.expanduser('./data')\n",
        "try:\n",
        "  os.makedirs(local_download_path)\n",
        "except: pass\n",
        "\n",
        "# 2. Auto-iterate using the query syntax\n",
        "#    https://developers.google.com/drive/v2/web/search-parameters\n",
        "file_list = drive.ListFile(\n",
        "    {'q': \"'1FjWwOPe1_f3tSHEAg4FlDlX0-D2YjJc4' in parents\"}).GetList()\n",
        "\n",
        "fname = ''\n",
        "for f in file_list:\n",
        "  # 3. Create & download by id.\n",
        "  if f['title'] == 'train_data_final_50k.csv':\n",
        "    #print('title: %s, id: %s' % (f['title'], f['id']))\n",
        "    fname = os.path.join(local_download_path, f['title'])\n",
        "    #print('downloading to {}'.format(fname))\n",
        "    f_ = drive.CreateFile({'id': f['id']})\n",
        "    f_.GetContentFile(fname)"
      ],
      "execution_count": 0,
      "outputs": []
    },
    {
      "metadata": {
        "id": "6ukvybAGANtP",
        "colab_type": "text"
      },
      "cell_type": "markdown",
      "source": [
        "## Get the Data"
      ]
    },
    {
      "metadata": {
        "id": "O_O4dWR7AMQg",
        "colab_type": "code",
        "colab": {
          "autoexec": {
            "startup": false,
            "wait_interval": 0
          },
          "base_uri": "https://localhost:8080/",
          "height": 71
        },
        "outputId": "5fd79a33-ee75-4989-ef0b-04047e4c1a00",
        "executionInfo": {
          "status": "ok",
          "timestamp": 1527030585609,
          "user_tz": 420,
          "elapsed": 23622,
          "user": {
            "displayName": "YUCHING CAO",
            "photoUrl": "https://lh3.googleusercontent.com/a/default-user=s128",
            "userId": "114408907584152638865"
          }
        }
      },
      "cell_type": "code",
      "source": [
        "DATA_FILE = fname\n",
        "DATA_SIZE = 50000\n",
        "num_data_points = 50000\n",
        "\n",
        "skip_rows = DATA_SIZE - num_data_points\n",
        "\n",
        "data = np.loadtxt(DATA_FILE, delimiter=',', skiprows=skip_rows, usecols=range(4,622))\n",
        "labels = np.loadtxt(DATA_FILE, delimiter=',', skiprows=skip_rows, usecols=622)\n",
        "X_train, X_test, y_train, y_test = train_test_split(data, labels, train_size=0.7, stratify=labels)\n",
        "\n",
        "scaler = StandardScaler()\n",
        "scaler.fit(X_train) # data = preprocessing.scale(data)\n",
        "X_train, X_test = scaler.transform(X_train), scaler.transform(X_test)"
      ],
      "execution_count": 3,
      "outputs": [
        {
          "output_type": "stream",
          "text": [
            "/usr/local/lib/python3.6/dist-packages/sklearn/model_selection/_split.py:2026: FutureWarning: From version 0.21, test_size will always complement train_size unless both are specified.\n",
            "  FutureWarning)\n"
          ],
          "name": "stderr"
        }
      ]
    },
    {
      "metadata": {
        "id": "S185RffKB3T4",
        "colab_type": "text"
      },
      "cell_type": "markdown",
      "source": [
        "## Reduce Dimensionality"
      ]
    },
    {
      "metadata": {
        "id": "J_Aga8akB5nb",
        "colab_type": "code",
        "colab": {
          "autoexec": {
            "startup": false,
            "wait_interval": 0
          }
        }
      },
      "cell_type": "code",
      "source": [
        "from sklearn import random_projection\n",
        "from sklearn.decomposition import TruncatedSVD\n",
        "\n",
        "svd = TruncatedSVD(n_components=90)\n",
        "X_train_svd = svd.fit_transform(X_train)\n",
        "X_test_svd = svd.transform(X_test)"
      ],
      "execution_count": 0,
      "outputs": []
    },
    {
      "metadata": {
        "id": "1Aa2HTvJKzau",
        "colab_type": "text"
      },
      "cell_type": "markdown",
      "source": [
        "## Adaboost"
      ]
    },
    {
      "metadata": {
        "id": "AbnmmtyeASaO",
        "colab_type": "code",
        "colab": {
          "autoexec": {
            "startup": false,
            "wait_interval": 0
          }
        }
      },
      "cell_type": "code",
      "source": [
        "DTC = DecisionTreeClassifier(min_samples_split=250, min_samples_leaf=50, max_depth=5, max_features='sqrt')\n",
        "learning_rate_range = stats.expon(scale=0.1)\n",
        "estimator_range = stats.randint(50,150)\n",
        "\n",
        "parameters = {\n",
        "    'n_estimators': estimator_range,\n",
        "    'learning_rate': learning_rate_range\n",
        "}\n",
        "\n",
        "# ada = RandomizedSearchCV(AdaBoostClassifier(DTC), parameters, cv=5)\n",
        "ada = AdaBoostClassifier(DTC, learning_rate=0.114, n_estimators=91)"
      ],
      "execution_count": 0,
      "outputs": []
    },
    {
      "metadata": {
        "id": "lA0o8yLfCAc7",
        "colab_type": "text"
      },
      "cell_type": "markdown",
      "source": [
        "### Evaluate Adaboost\n"
      ]
    },
    {
      "metadata": {
        "id": "Jb28bFu1CDs-",
        "colab_type": "code",
        "colab": {
          "autoexec": {
            "startup": false,
            "wait_interval": 0
          },
          "base_uri": "https://localhost:8080/",
          "height": 68
        },
        "outputId": "4039d177-ee09-49e7-eab7-64374093fc12",
        "executionInfo": {
          "status": "ok",
          "timestamp": 1527032226508,
          "user_tz": 420,
          "elapsed": 25943,
          "user": {
            "displayName": "YUCHING CAO",
            "photoUrl": "https://lh3.googleusercontent.com/a/default-user=s128",
            "userId": "114408907584152638865"
          }
        }
      },
      "cell_type": "code",
      "source": [
        "%%time\n",
        "\n",
        "ada.fit(X_train_svd, y_train)\n",
        "#print(\"Best parameters:\\t\")\n",
        "#print(ada.best_params_)\n",
        "print(\"Adaboost score: %f\" % ada.score(X_test_svd, y_test))"
      ],
      "execution_count": 48,
      "outputs": [
        {
          "output_type": "stream",
          "text": [
            "Adaboost score: 0.917133\n",
            "CPU times: user 25.6 s, sys: 6 ms, total: 25.6 s\n",
            "Wall time: 25.6 s\n"
          ],
          "name": "stdout"
        }
      ]
    },
    {
      "metadata": {
        "id": "RM5Dukfy3wPK",
        "colab_type": "text"
      },
      "cell_type": "markdown",
      "source": [
        "## Bagging"
      ]
    },
    {
      "metadata": {
        "id": "FzDg53dS3xbM",
        "colab_type": "code",
        "colab": {
          "autoexec": {
            "startup": false,
            "wait_interval": 0
          }
        }
      },
      "cell_type": "code",
      "source": [
        "estimator_range = stats.randint(20, 100)\n",
        "parameters = {\n",
        "    'n_estimators': estimator_range\n",
        "}\n",
        "\n",
        "# bag = RandomizedSearchCV(BaggingClassifier(), parameters, cv=5)\n",
        "bag = BaggingClassifier()"
      ],
      "execution_count": 0,
      "outputs": []
    },
    {
      "metadata": {
        "id": "9eHy2zmlCPrv",
        "colab_type": "text"
      },
      "cell_type": "markdown",
      "source": [
        "### Evaluate Bagging"
      ]
    },
    {
      "metadata": {
        "id": "UOSO3fQzCRo9",
        "colab_type": "code",
        "colab": {
          "autoexec": {
            "startup": false,
            "wait_interval": 0
          },
          "base_uri": "https://localhost:8080/",
          "height": 68
        },
        "outputId": "6d800b1e-8add-47dc-c818-1554e68f72fa",
        "executionInfo": {
          "status": "ok",
          "timestamp": 1527032516234,
          "user_tz": 420,
          "elapsed": 48710,
          "user": {
            "displayName": "YUCHING CAO",
            "photoUrl": "https://lh3.googleusercontent.com/a/default-user=s128",
            "userId": "114408907584152638865"
          }
        }
      },
      "cell_type": "code",
      "source": [
        "%%time\n",
        "\n",
        "bag.fit(X_train_svd, y_train)\n",
        "#print(\"Best parameters:\\t\")\n",
        "#print(bag.best_params_)\n",
        "print('Bagging score: %f' % bag.score(X_test_svd, y_test))"
      ],
      "execution_count": 69,
      "outputs": [
        {
          "output_type": "stream",
          "text": [
            "Bagging score: 0.929600\n",
            "CPU times: user 48.4 s, sys: 8 ms, total: 48.4 s\n",
            "Wall time: 48.4 s\n"
          ],
          "name": "stdout"
        }
      ]
    },
    {
      "metadata": {
        "id": "Guj4iFgr5Oe-",
        "colab_type": "text"
      },
      "cell_type": "markdown",
      "source": [
        "## Gradient Tree Boosting"
      ]
    },
    {
      "metadata": {
        "id": "90jnrix75QJX",
        "colab_type": "code",
        "colab": {
          "autoexec": {
            "startup": false,
            "wait_interval": 0
          }
        }
      },
      "cell_type": "code",
      "source": [
        "learning_rate_range = stats.expon(scale=0.1)\n",
        "estimator_range = stats.randint(20, 150)\n",
        "max_depth_range = range(1, 4)\n",
        "\n",
        "parameters = {\n",
        "    'n_estimators': estimator_range,\n",
        "    'learning_rate': learning_rate_range,\n",
        "    'max_depth': max_depth_range\n",
        "}\n",
        "\n",
        "# gbc = RandomizedSearchCV(GradientBoostingClassifier(), parameters, cv=5)\n",
        "gbc = GradientBoostingClassifier(learning_rate=0.27, max_depth=2, n_estimators=60)\n",
        "gbd = GradientBoostingClassifier()"
      ],
      "execution_count": 0,
      "outputs": []
    },
    {
      "metadata": {
        "id": "LccpqlRSCcfL",
        "colab_type": "text"
      },
      "cell_type": "markdown",
      "source": [
        "### Evaluate Gradient Tree Boosting"
      ]
    },
    {
      "metadata": {
        "id": "Cy49c7pBCexo",
        "colab_type": "code",
        "colab": {
          "autoexec": {
            "startup": false,
            "wait_interval": 0
          },
          "base_uri": "https://localhost:8080/",
          "height": 68
        },
        "outputId": "fa24f62c-1b73-4af6-b2bc-315dd5623c4e",
        "executionInfo": {
          "status": "ok",
          "timestamp": 1527032446927,
          "user_tz": 420,
          "elapsed": 18007,
          "user": {
            "displayName": "YUCHING CAO",
            "photoUrl": "https://lh3.googleusercontent.com/a/default-user=s128",
            "userId": "114408907584152638865"
          }
        }
      },
      "cell_type": "code",
      "source": [
        "%%time\n",
        "\n",
        "gbc.fit(X_train_svd, y_train)\n",
        "# print(\"Best parameters:\\t\")\n",
        "# print(gbc.best_params_)\n",
        "print('Gradient Tree Boosting score: %f' % gbc.score(X_test_svd, y_test))"
      ],
      "execution_count": 67,
      "outputs": [
        {
          "output_type": "stream",
          "text": [
            "Gradient Tree Boosting score: 0.872733\n",
            "CPU times: user 17.6 s, sys: 5 ms, total: 17.6 s\n",
            "Wall time: 17.6 s\n"
          ],
          "name": "stdout"
        }
      ]
    },
    {
      "metadata": {
        "id": "Cn88oNGc3gLz",
        "colab_type": "text"
      },
      "cell_type": "markdown",
      "source": [
        "## Random Forests"
      ]
    },
    {
      "metadata": {
        "id": "fjCRiGbd3jdw",
        "colab_type": "code",
        "colab": {
          "autoexec": {
            "startup": false,
            "wait_interval": 0
          }
        }
      },
      "cell_type": "code",
      "source": [
        "parameters = { 'n_estimators': stats.randint(20, 100) }\n",
        "\n",
        "# rfc = RandomizedSearchCV(RandomForestClassifier(), parameters, cv=5)\n",
        "# rfc = RandomForestClassifier(n_estimators=46)\n",
        "rfc = RandomForestClassifier()"
      ],
      "execution_count": 0,
      "outputs": []
    },
    {
      "metadata": {
        "id": "mBnJeb_mCjfJ",
        "colab_type": "text"
      },
      "cell_type": "markdown",
      "source": [
        "### Evaluate Random Forests"
      ]
    },
    {
      "metadata": {
        "id": "tKyA30SsClgp",
        "colab_type": "code",
        "colab": {
          "autoexec": {
            "startup": false,
            "wait_interval": 0
          },
          "base_uri": "https://localhost:8080/",
          "height": 68
        },
        "outputId": "1c4b3f07-d08a-4dd9-c893-49aa36f120ff",
        "executionInfo": {
          "status": "ok",
          "timestamp": 1527032276932,
          "user_tz": 420,
          "elapsed": 4417,
          "user": {
            "displayName": "YUCHING CAO",
            "photoUrl": "https://lh3.googleusercontent.com/a/default-user=s128",
            "userId": "114408907584152638865"
          }
        }
      },
      "cell_type": "code",
      "source": [
        "%%time\n",
        "\n",
        "rfc.fit(X_train_svd, y_train)\n",
        "#print(\"Best parameters:\")\n",
        "#print(rfc.best_params_)\n",
        "print('Random Forests score: %f' % rfc.score(X_test_svd, y_test))"
      ],
      "execution_count": 53,
      "outputs": [
        {
          "output_type": "stream",
          "text": [
            "Random Forests score: 0.920667\n",
            "CPU times: user 3.94 s, sys: 2 ms, total: 3.94 s\n",
            "Wall time: 3.95 s\n"
          ],
          "name": "stdout"
        }
      ]
    },
    {
      "metadata": {
        "id": "jQbVEE2l6A5m",
        "colab_type": "text"
      },
      "cell_type": "markdown",
      "source": [
        "## Extremely Randomized Trees"
      ]
    },
    {
      "metadata": {
        "id": "dVWqbiREK8dR",
        "colab_type": "code",
        "colab": {
          "autoexec": {
            "startup": false,
            "wait_interval": 0
          }
        }
      },
      "cell_type": "code",
      "source": [
        "parameters = { \n",
        "    'n_estimators': stats.randint(20, 100)\n",
        "#    'max_depth': range(1, 6),\n",
        "#    'min_samples_split': stats.randint(100, 500),\n",
        "#    'min_samples_leaf': stats.randint(1, 100)\n",
        "}\n",
        "\n",
        "# ert = RandomizedSearchCV(ExtraTreesClassifier(max_features='sqrt'), parameters, cv=5)\n",
        "ert = ExtraTreesClassifier(max_features='sqrt', n_estimators=45)\n",
        "ert = ExtraTreesClassifier()"
      ],
      "execution_count": 0,
      "outputs": []
    },
    {
      "metadata": {
        "id": "disS-c8YCrum",
        "colab_type": "text"
      },
      "cell_type": "markdown",
      "source": [
        "### Evaluate Extremely Randomized Trees"
      ]
    },
    {
      "metadata": {
        "id": "weFq8fRUCuWF",
        "colab_type": "code",
        "colab": {
          "autoexec": {
            "startup": false,
            "wait_interval": 0
          },
          "base_uri": "https://localhost:8080/",
          "height": 68
        },
        "outputId": "91afdd3f-80a3-4b1b-b7ad-6de9b2fb03ac",
        "executionInfo": {
          "status": "ok",
          "timestamp": 1527032341530,
          "user_tz": 420,
          "elapsed": 1365,
          "user": {
            "displayName": "YUCHING CAO",
            "photoUrl": "https://lh3.googleusercontent.com/a/default-user=s128",
            "userId": "114408907584152638865"
          }
        }
      },
      "cell_type": "code",
      "source": [
        "%%time\n",
        "\n",
        "ert.fit(X_train_svd, y_train)\n",
        "#print(\"Best parameters:\")\n",
        "#print(ert.best_params_)\n",
        "print('Random Forests score: %f' % ert.score(X_test_svd, y_test))"
      ],
      "execution_count": 63,
      "outputs": [
        {
          "output_type": "stream",
          "text": [
            "Random Forests score: 0.928067\n",
            "CPU times: user 876 ms, sys: 2 ms, total: 878 ms\n",
            "Wall time: 882 ms\n"
          ],
          "name": "stdout"
        }
      ]
    },
    {
      "metadata": {
        "id": "UrT2-aLrBY8u",
        "colab_type": "text"
      },
      "cell_type": "markdown",
      "source": [
        "### Save the Adaboost classifier"
      ]
    },
    {
      "metadata": {
        "id": "1FfBP_7RLy-P",
        "colab_type": "code",
        "colab": {
          "autoexec": {
            "startup": false,
            "wait_interval": 0
          },
          "base_uri": "https://localhost:8080/",
          "height": 572
        },
        "outputId": "d71fbc96-7860-4b88-8797-0a2e0e677eb8",
        "executionInfo": {
          "status": "error",
          "timestamp": 1526962032713,
          "user_tz": 420,
          "elapsed": 945,
          "user": {
            "displayName": "YUCHING CAO",
            "photoUrl": "https://lh3.googleusercontent.com/a/default-user=s128",
            "userId": "114408907584152638865"
          }
        }
      },
      "cell_type": "code",
      "source": [
        "f = open('adaboost.txt', 'a')\n",
        "f.write(str(ada.best_params_))\n",
        "files.download('adaboost.txt')\n",
        "f.close()\n",
        "\n",
        "joblib.dump(ada, 'adaboost.pkl')\n",
        "files.download('adaboost.pkl')"
      ],
      "execution_count": 10,
      "outputs": [
        {
          "output_type": "error",
          "ename": "KeyboardInterrupt",
          "evalue": "ignored",
          "traceback": [
            "\u001b[0;31m---------------------------------------------------------------------------\u001b[0m",
            "\u001b[0;31mKeyboardInterrupt\u001b[0m                         Traceback (most recent call last)",
            "\u001b[0;32m<ipython-input-10-dec84852a3ac>\u001b[0m in \u001b[0;36m<module>\u001b[0;34m()\u001b[0m\n\u001b[1;32m      1\u001b[0m \u001b[0mf\u001b[0m \u001b[0;34m=\u001b[0m \u001b[0mopen\u001b[0m\u001b[0;34m(\u001b[0m\u001b[0;34m'adaboost.txt'\u001b[0m\u001b[0;34m,\u001b[0m \u001b[0;34m'a'\u001b[0m\u001b[0;34m)\u001b[0m\u001b[0;34m\u001b[0m\u001b[0m\n\u001b[1;32m      2\u001b[0m \u001b[0mf\u001b[0m\u001b[0;34m.\u001b[0m\u001b[0mwrite\u001b[0m\u001b[0;34m(\u001b[0m\u001b[0mstr\u001b[0m\u001b[0;34m(\u001b[0m\u001b[0mada\u001b[0m\u001b[0;34m.\u001b[0m\u001b[0mbest_params_\u001b[0m\u001b[0;34m)\u001b[0m\u001b[0;34m)\u001b[0m\u001b[0;34m\u001b[0m\u001b[0m\n\u001b[0;32m----> 3\u001b[0;31m \u001b[0mfiles\u001b[0m\u001b[0;34m.\u001b[0m\u001b[0mdownload\u001b[0m\u001b[0;34m(\u001b[0m\u001b[0;34m'adaboost.txt'\u001b[0m\u001b[0;34m)\u001b[0m\u001b[0;34m\u001b[0m\u001b[0m\n\u001b[0m\u001b[1;32m      4\u001b[0m \u001b[0mf\u001b[0m\u001b[0;34m.\u001b[0m\u001b[0mclose\u001b[0m\u001b[0;34m(\u001b[0m\u001b[0;34m)\u001b[0m\u001b[0;34m\u001b[0m\u001b[0m\n\u001b[1;32m      5\u001b[0m \u001b[0;34m\u001b[0m\u001b[0m\n",
            "\u001b[0;32m/usr/local/lib/python3.6/dist-packages/google/colab/files.py\u001b[0m in \u001b[0;36mdownload\u001b[0;34m(filename)\u001b[0m\n\u001b[1;32m    174\u001b[0m       \u001b[0;34m'port'\u001b[0m\u001b[0;34m:\u001b[0m \u001b[0mport\u001b[0m\u001b[0;34m,\u001b[0m\u001b[0;34m\u001b[0m\u001b[0m\n\u001b[1;32m    175\u001b[0m       \u001b[0;34m'path'\u001b[0m\u001b[0;34m:\u001b[0m \u001b[0mos\u001b[0m\u001b[0;34m.\u001b[0m\u001b[0mpath\u001b[0m\u001b[0;34m.\u001b[0m\u001b[0mabspath\u001b[0m\u001b[0;34m(\u001b[0m\u001b[0mfilename\u001b[0m\u001b[0;34m)\u001b[0m\u001b[0;34m,\u001b[0m\u001b[0;34m\u001b[0m\u001b[0m\n\u001b[0;32m--> 176\u001b[0;31m       \u001b[0;34m'name'\u001b[0m\u001b[0;34m:\u001b[0m \u001b[0mos\u001b[0m\u001b[0;34m.\u001b[0m\u001b[0mpath\u001b[0m\u001b[0;34m.\u001b[0m\u001b[0mbasename\u001b[0m\u001b[0;34m(\u001b[0m\u001b[0mfilename\u001b[0m\u001b[0;34m)\u001b[0m\u001b[0;34m,\u001b[0m\u001b[0;34m\u001b[0m\u001b[0m\n\u001b[0m\u001b[1;32m    177\u001b[0m   })\n",
            "\u001b[0;32m/usr/local/lib/python3.6/dist-packages/google/colab/output/_js.py\u001b[0m in \u001b[0;36meval_js\u001b[0;34m(script, ignore_result)\u001b[0m\n\u001b[1;32m     37\u001b[0m   \u001b[0;32mif\u001b[0m \u001b[0mignore_result\u001b[0m\u001b[0;34m:\u001b[0m\u001b[0;34m\u001b[0m\u001b[0m\n\u001b[1;32m     38\u001b[0m     \u001b[0;32mreturn\u001b[0m\u001b[0;34m\u001b[0m\u001b[0m\n\u001b[0;32m---> 39\u001b[0;31m   \u001b[0;32mreturn\u001b[0m \u001b[0m_message\u001b[0m\u001b[0;34m.\u001b[0m\u001b[0mread_reply_from_input\u001b[0m\u001b[0;34m(\u001b[0m\u001b[0mrequest_id\u001b[0m\u001b[0;34m)\u001b[0m\u001b[0;34m\u001b[0m\u001b[0m\n\u001b[0m\u001b[1;32m     40\u001b[0m \u001b[0;34m\u001b[0m\u001b[0m\n\u001b[1;32m     41\u001b[0m \u001b[0;34m\u001b[0m\u001b[0m\n",
            "\u001b[0;32m/usr/local/lib/python3.6/dist-packages/google/colab/_message.py\u001b[0m in \u001b[0;36mread_reply_from_input\u001b[0;34m(message_id, timeout_sec)\u001b[0m\n\u001b[1;32m     79\u001b[0m     \u001b[0mreply\u001b[0m \u001b[0;34m=\u001b[0m \u001b[0m_read_next_input_message\u001b[0m\u001b[0;34m(\u001b[0m\u001b[0;34m)\u001b[0m\u001b[0;34m\u001b[0m\u001b[0m\n\u001b[1;32m     80\u001b[0m     \u001b[0;32mif\u001b[0m \u001b[0mreply\u001b[0m \u001b[0;34m==\u001b[0m \u001b[0m_NOT_READY\u001b[0m \u001b[0;32mor\u001b[0m \u001b[0;32mnot\u001b[0m \u001b[0misinstance\u001b[0m\u001b[0;34m(\u001b[0m\u001b[0mreply\u001b[0m\u001b[0;34m,\u001b[0m \u001b[0mdict\u001b[0m\u001b[0;34m)\u001b[0m\u001b[0;34m:\u001b[0m\u001b[0;34m\u001b[0m\u001b[0m\n\u001b[0;32m---> 81\u001b[0;31m       \u001b[0mtime\u001b[0m\u001b[0;34m.\u001b[0m\u001b[0msleep\u001b[0m\u001b[0;34m(\u001b[0m\u001b[0;36m0.025\u001b[0m\u001b[0;34m)\u001b[0m\u001b[0;34m\u001b[0m\u001b[0m\n\u001b[0m\u001b[1;32m     82\u001b[0m       \u001b[0;32mcontinue\u001b[0m\u001b[0;34m\u001b[0m\u001b[0m\n\u001b[1;32m     83\u001b[0m     if (reply.get('type') == 'colab_reply' and\n",
            "\u001b[0;31mKeyboardInterrupt\u001b[0m: "
          ]
        }
      ]
    },
    {
      "metadata": {
        "id": "TH2PHQ0CB5j8",
        "colab_type": "text"
      },
      "cell_type": "markdown",
      "source": [
        "### Save the Bagging classifier"
      ]
    },
    {
      "metadata": {
        "id": "8S2HMR_RB7E_",
        "colab_type": "code",
        "colab": {
          "autoexec": {
            "startup": false,
            "wait_interval": 0
          }
        }
      },
      "cell_type": "code",
      "source": [
        "f = open('bagging.txt', 'a')\n",
        "f.write(str(bag.best_params_))\n",
        "files.download('bagging.txt')\n",
        "f.close()\n",
        "\n",
        "joblib.dump(bag, 'bagging.pkl')\n",
        "files.download('bagging.pkl')"
      ],
      "execution_count": 0,
      "outputs": []
    },
    {
      "metadata": {
        "id": "_1nVMDI1CCyG",
        "colab_type": "text"
      },
      "cell_type": "markdown",
      "source": [
        "### Save the Gradient Tree Boosting classifier"
      ]
    },
    {
      "metadata": {
        "id": "j5x0vJ7iCGDh",
        "colab_type": "code",
        "colab": {
          "autoexec": {
            "startup": false,
            "wait_interval": 0
          }
        }
      },
      "cell_type": "code",
      "source": [
        "f = open('gradient_boosting.txt', 'a')\n",
        "f.write(str(gbc.best_params_))\n",
        "files.download('gradient_boosting.txt')\n",
        "f.close()\n",
        "\n",
        "joblib.dump(gbc, 'gradient_boosting.pkl')\n",
        "files.download('gradient_boosting.pkl')"
      ],
      "execution_count": 0,
      "outputs": []
    },
    {
      "metadata": {
        "id": "3pQcBE08CPrt",
        "colab_type": "text"
      },
      "cell_type": "markdown",
      "source": [
        "### Save the Extremely Randomized Trees classifier"
      ]
    },
    {
      "metadata": {
        "id": "8Pzol-JoCS0N",
        "colab_type": "code",
        "colab": {
          "autoexec": {
            "startup": false,
            "wait_interval": 0
          }
        }
      },
      "cell_type": "code",
      "source": [
        "f = open('extra_trees.txt', 'a')\n",
        "f.write(str(ert.best_params_))\n",
        "files.download('extra_trees.txt')\n",
        "f.close()\n",
        "\n",
        "joblib.dump(ert, 'extra_trees.pkl')\n",
        "files.download('extra_trees.pkl')"
      ],
      "execution_count": 0,
      "outputs": []
    },
    {
      "metadata": {
        "id": "-wOqMOaKCZCt",
        "colab_type": "code",
        "colab": {
          "autoexec": {
            "startup": false,
            "wait_interval": 0
          }
        }
      },
      "cell_type": "code",
      "source": [
        ""
      ],
      "execution_count": 0,
      "outputs": []
    }
  ]
}