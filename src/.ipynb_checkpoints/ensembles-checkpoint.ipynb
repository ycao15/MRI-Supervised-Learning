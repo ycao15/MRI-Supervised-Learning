{
 "cells": [
  {
   "cell_type": "markdown",
   "metadata": {
    "colab_type": "text",
    "id": "jMJq3v4r_-Yq"
   },
   "source": [
    "## Import Libraries"
   ]
  },
  {
   "cell_type": "code",
   "execution_count": 0,
   "metadata": {
    "colab": {
     "autoexec": {
      "startup": false,
      "wait_interval": 0
     }
    },
    "colab_type": "code",
    "collapsed": true,
    "id": "wOwBRIs8_ZIC"
   },
   "outputs": [],
   "source": [
    "import numpy as np\n",
    "from scipy import stats\n",
    "from data import load_data\n",
    "\n",
    "from sklearn.ensemble import AdaBoostClassifier, BaggingClassifier\n",
    "from sklearn.ensemble import GradientBoostingClassifier, RandomForestClassifier\n",
    "from sklearn.ensemble import ExtraTreesClassifier\n",
    "from sklearn.tree import DecisionTreeClassifier\n",
    "\n",
    "from sklearn.model_selection import RandomizedSearchCV\n",
    "from sklearn.externals import joblib"
   ]
  },
  {
   "cell_type": "markdown",
   "metadata": {},
   "source": [
    "## Load Data"
   ]
  },
  {
   "cell_type": "code",
   "execution_count": 1,
   "metadata": {
    "colab": {
     "autoexec": {
      "startup": false,
      "wait_interval": 0
     }
    },
    "colab_type": "code",
    "id": "J_Aga8akB5nb",
    "scrolled": true
   },
   "outputs": [
    {
     "ename": "NameError",
     "evalue": "name 'load_data' is not defined",
     "output_type": "error",
     "traceback": [
      "\u001b[0;31m---------------------------------------------------------------------------\u001b[0m",
      "\u001b[0;31mNameError\u001b[0m                                 Traceback (most recent call last)",
      "\u001b[0;32m<ipython-input-1-5d5d2d30d089>\u001b[0m in \u001b[0;36m<module>\u001b[0;34m()\u001b[0m\n\u001b[0;32m----> 1\u001b[0;31m \u001b[0mX_train_svd\u001b[0m\u001b[0;34m,\u001b[0m \u001b[0mX_test_svd\u001b[0m\u001b[0;34m,\u001b[0m \u001b[0my_train\u001b[0m\u001b[0;34m,\u001b[0m \u001b[0my_test\u001b[0m \u001b[0;34m=\u001b[0m \u001b[0mload_data\u001b[0m\u001b[0;34m(\u001b[0m\u001b[0;34m)\u001b[0m\u001b[0;34m\u001b[0m\u001b[0m\n\u001b[0m",
      "\u001b[0;31mNameError\u001b[0m: name 'load_data' is not defined"
     ]
    }
   ],
   "source": [
    "X_train_svd, X_test_svd, y_train, y_test = load_data()"
   ]
  },
  {
   "cell_type": "markdown",
   "metadata": {
    "colab_type": "text",
    "id": "1Aa2HTvJKzau"
   },
   "source": [
    "## Adaboost"
   ]
  },
  {
   "cell_type": "code",
   "execution_count": 0,
   "metadata": {
    "colab": {
     "autoexec": {
      "startup": false,
      "wait_interval": 0
     }
    },
    "colab_type": "code",
    "collapsed": true,
    "id": "AbnmmtyeASaO"
   },
   "outputs": [],
   "source": [
    "DTC = DecisionTreeClassifier(min_samples_split=250, min_samples_leaf=50, max_depth=5, max_features='sqrt')\n",
    "learning_rate_range = stats.expon(scale=0.1)\n",
    "estimator_range = stats.randint(50,150)\n",
    "\n",
    "parameters = {\n",
    "    'n_estimators': estimator_range,\n",
    "    'learning_rate': learning_rate_range\n",
    "}\n",
    "\n",
    "# ada = RandomizedSearchCV(AdaBoostClassifier(DTC), parameters, cv=5)\n",
    "ada = AdaBoostClassifier(DTC, learning_rate=0.114, n_estimators=91)"
   ]
  },
  {
   "cell_type": "markdown",
   "metadata": {
    "colab_type": "text",
    "id": "lA0o8yLfCAc7"
   },
   "source": [
    "### Evaluate Adaboost\n"
   ]
  },
  {
   "cell_type": "code",
   "execution_count": 48,
   "metadata": {
    "colab": {
     "autoexec": {
      "startup": false,
      "wait_interval": 0
     },
     "base_uri": "https://localhost:8080/",
     "height": 68
    },
    "colab_type": "code",
    "executionInfo": {
     "elapsed": 25943,
     "status": "ok",
     "timestamp": 1527032226508,
     "user": {
      "displayName": "YUCHING CAO",
      "photoUrl": "https://lh3.googleusercontent.com/a/default-user=s128",
      "userId": "114408907584152638865"
     },
     "user_tz": 420
    },
    "id": "Jb28bFu1CDs-",
    "outputId": "4039d177-ee09-49e7-eab7-64374093fc12"
   },
   "outputs": [
    {
     "name": "stdout",
     "output_type": "stream",
     "text": [
      "Adaboost score: 0.917133\n",
      "CPU times: user 25.6 s, sys: 6 ms, total: 25.6 s\n",
      "Wall time: 25.6 s\n"
     ]
    }
   ],
   "source": [
    "%%time\n",
    "\n",
    "ada.fit(X_train_svd, y_train)\n",
    "#print(\"Best parameters:\\t\")\n",
    "#print(ada.best_params_)\n",
    "print(\"Adaboost score: %f\" % ada.score(X_test_svd, y_test))"
   ]
  },
  {
   "cell_type": "markdown",
   "metadata": {
    "colab_type": "text",
    "id": "RM5Dukfy3wPK"
   },
   "source": [
    "## Bagging"
   ]
  },
  {
   "cell_type": "code",
   "execution_count": 0,
   "metadata": {
    "colab": {
     "autoexec": {
      "startup": false,
      "wait_interval": 0
     }
    },
    "colab_type": "code",
    "collapsed": true,
    "id": "FzDg53dS3xbM"
   },
   "outputs": [],
   "source": [
    "estimator_range = stats.randint(20, 100)\n",
    "parameters = {\n",
    "    'n_estimators': estimator_range\n",
    "}\n",
    "\n",
    "# bag = RandomizedSearchCV(BaggingClassifier(), parameters, cv=5)\n",
    "bag = BaggingClassifier()"
   ]
  },
  {
   "cell_type": "markdown",
   "metadata": {
    "colab_type": "text",
    "id": "9eHy2zmlCPrv"
   },
   "source": [
    "### Evaluate Bagging"
   ]
  },
  {
   "cell_type": "code",
   "execution_count": 69,
   "metadata": {
    "colab": {
     "autoexec": {
      "startup": false,
      "wait_interval": 0
     },
     "base_uri": "https://localhost:8080/",
     "height": 68
    },
    "colab_type": "code",
    "executionInfo": {
     "elapsed": 48710,
     "status": "ok",
     "timestamp": 1527032516234,
     "user": {
      "displayName": "YUCHING CAO",
      "photoUrl": "https://lh3.googleusercontent.com/a/default-user=s128",
      "userId": "114408907584152638865"
     },
     "user_tz": 420
    },
    "id": "UOSO3fQzCRo9",
    "outputId": "6d800b1e-8add-47dc-c818-1554e68f72fa"
   },
   "outputs": [
    {
     "name": "stdout",
     "output_type": "stream",
     "text": [
      "Bagging score: 0.929600\n",
      "CPU times: user 48.4 s, sys: 8 ms, total: 48.4 s\n",
      "Wall time: 48.4 s\n"
     ]
    }
   ],
   "source": [
    "%%time\n",
    "\n",
    "bag.fit(X_train_svd, y_train)\n",
    "#print(\"Best parameters:\\t\")\n",
    "#print(bag.best_params_)\n",
    "print('Bagging score: %f' % bag.score(X_test_svd, y_test))"
   ]
  },
  {
   "cell_type": "markdown",
   "metadata": {
    "colab_type": "text",
    "id": "Guj4iFgr5Oe-"
   },
   "source": [
    "## Gradient Tree Boosting"
   ]
  },
  {
   "cell_type": "code",
   "execution_count": 0,
   "metadata": {
    "colab": {
     "autoexec": {
      "startup": false,
      "wait_interval": 0
     }
    },
    "colab_type": "code",
    "collapsed": true,
    "id": "90jnrix75QJX"
   },
   "outputs": [],
   "source": [
    "learning_rate_range = stats.expon(scale=0.1)\n",
    "estimator_range = stats.randint(20, 150)\n",
    "max_depth_range = range(1, 4)\n",
    "\n",
    "parameters = {\n",
    "    'n_estimators': estimator_range,\n",
    "    'learning_rate': learning_rate_range,\n",
    "    'max_depth': max_depth_range\n",
    "}\n",
    "\n",
    "# gbc = RandomizedSearchCV(GradientBoostingClassifier(), parameters, cv=5)\n",
    "gbc = GradientBoostingClassifier(learning_rate=0.27, max_depth=2, n_estimators=60)\n",
    "gbd = GradientBoostingClassifier()"
   ]
  },
  {
   "cell_type": "markdown",
   "metadata": {
    "colab_type": "text",
    "id": "LccpqlRSCcfL"
   },
   "source": [
    "### Evaluate Gradient Tree Boosting"
   ]
  },
  {
   "cell_type": "code",
   "execution_count": 67,
   "metadata": {
    "colab": {
     "autoexec": {
      "startup": false,
      "wait_interval": 0
     },
     "base_uri": "https://localhost:8080/",
     "height": 68
    },
    "colab_type": "code",
    "executionInfo": {
     "elapsed": 18007,
     "status": "ok",
     "timestamp": 1527032446927,
     "user": {
      "displayName": "YUCHING CAO",
      "photoUrl": "https://lh3.googleusercontent.com/a/default-user=s128",
      "userId": "114408907584152638865"
     },
     "user_tz": 420
    },
    "id": "Cy49c7pBCexo",
    "outputId": "fa24f62c-1b73-4af6-b2bc-315dd5623c4e"
   },
   "outputs": [
    {
     "name": "stdout",
     "output_type": "stream",
     "text": [
      "Gradient Tree Boosting score: 0.872733\n",
      "CPU times: user 17.6 s, sys: 5 ms, total: 17.6 s\n",
      "Wall time: 17.6 s\n"
     ]
    }
   ],
   "source": [
    "%%time\n",
    "\n",
    "gbc.fit(X_train_svd, y_train)\n",
    "# print(\"Best parameters:\\t\")\n",
    "# print(gbc.best_params_)\n",
    "print('Gradient Tree Boosting score: %f' % gbc.score(X_test_svd, y_test))"
   ]
  },
  {
   "cell_type": "markdown",
   "metadata": {
    "colab_type": "text",
    "id": "Cn88oNGc3gLz"
   },
   "source": [
    "## Random Forests"
   ]
  },
  {
   "cell_type": "code",
   "execution_count": 0,
   "metadata": {
    "colab": {
     "autoexec": {
      "startup": false,
      "wait_interval": 0
     }
    },
    "colab_type": "code",
    "collapsed": true,
    "id": "fjCRiGbd3jdw"
   },
   "outputs": [],
   "source": [
    "parameters = { 'n_estimators': stats.randint(20, 100) }\n",
    "\n",
    "# rfc = RandomizedSearchCV(RandomForestClassifier(), parameters, cv=5)\n",
    "# rfc = RandomForestClassifier(n_estimators=46)\n",
    "rfc = RandomForestClassifier()"
   ]
  },
  {
   "cell_type": "markdown",
   "metadata": {
    "colab_type": "text",
    "id": "mBnJeb_mCjfJ"
   },
   "source": [
    "### Evaluate Random Forests"
   ]
  },
  {
   "cell_type": "code",
   "execution_count": 53,
   "metadata": {
    "colab": {
     "autoexec": {
      "startup": false,
      "wait_interval": 0
     },
     "base_uri": "https://localhost:8080/",
     "height": 68
    },
    "colab_type": "code",
    "executionInfo": {
     "elapsed": 4417,
     "status": "ok",
     "timestamp": 1527032276932,
     "user": {
      "displayName": "YUCHING CAO",
      "photoUrl": "https://lh3.googleusercontent.com/a/default-user=s128",
      "userId": "114408907584152638865"
     },
     "user_tz": 420
    },
    "id": "tKyA30SsClgp",
    "outputId": "1c4b3f07-d08a-4dd9-c893-49aa36f120ff"
   },
   "outputs": [
    {
     "name": "stdout",
     "output_type": "stream",
     "text": [
      "Random Forests score: 0.920667\n",
      "CPU times: user 3.94 s, sys: 2 ms, total: 3.94 s\n",
      "Wall time: 3.95 s\n"
     ]
    }
   ],
   "source": [
    "%%time\n",
    "\n",
    "rfc.fit(X_train_svd, y_train)\n",
    "#print(\"Best parameters:\")\n",
    "#print(rfc.best_params_)\n",
    "print('Random Forests score: %f' % rfc.score(X_test_svd, y_test))"
   ]
  },
  {
   "cell_type": "markdown",
   "metadata": {
    "colab_type": "text",
    "id": "jQbVEE2l6A5m"
   },
   "source": [
    "## Extremely Randomized Trees"
   ]
  },
  {
   "cell_type": "code",
   "execution_count": 0,
   "metadata": {
    "colab": {
     "autoexec": {
      "startup": false,
      "wait_interval": 0
     }
    },
    "colab_type": "code",
    "collapsed": true,
    "id": "dVWqbiREK8dR"
   },
   "outputs": [],
   "source": [
    "parameters = { \n",
    "    'n_estimators': stats.randint(20, 100)\n",
    "#    'max_depth': range(1, 6),\n",
    "#    'min_samples_split': stats.randint(100, 500),\n",
    "#    'min_samples_leaf': stats.randint(1, 100)\n",
    "}\n",
    "\n",
    "# ert = RandomizedSearchCV(ExtraTreesClassifier(max_features='sqrt'), parameters, cv=5)\n",
    "ert = ExtraTreesClassifier(max_features='sqrt', n_estimators=45)\n",
    "ert = ExtraTreesClassifier()"
   ]
  },
  {
   "cell_type": "markdown",
   "metadata": {
    "colab_type": "text",
    "id": "disS-c8YCrum"
   },
   "source": [
    "### Evaluate Extremely Randomized Trees"
   ]
  },
  {
   "cell_type": "code",
   "execution_count": 63,
   "metadata": {
    "colab": {
     "autoexec": {
      "startup": false,
      "wait_interval": 0
     },
     "base_uri": "https://localhost:8080/",
     "height": 68
    },
    "colab_type": "code",
    "executionInfo": {
     "elapsed": 1365,
     "status": "ok",
     "timestamp": 1527032341530,
     "user": {
      "displayName": "YUCHING CAO",
      "photoUrl": "https://lh3.googleusercontent.com/a/default-user=s128",
      "userId": "114408907584152638865"
     },
     "user_tz": 420
    },
    "id": "weFq8fRUCuWF",
    "outputId": "91afdd3f-80a3-4b1b-b7ad-6de9b2fb03ac"
   },
   "outputs": [
    {
     "name": "stdout",
     "output_type": "stream",
     "text": [
      "Random Forests score: 0.928067\n",
      "CPU times: user 876 ms, sys: 2 ms, total: 878 ms\n",
      "Wall time: 882 ms\n"
     ]
    }
   ],
   "source": [
    "%%time\n",
    "\n",
    "ert.fit(X_train_svd, y_train)\n",
    "#print(\"Best parameters:\")\n",
    "#print(ert.best_params_)\n",
    "print('Random Forests score: %f' % ert.score(X_test_svd, y_test))"
   ]
  },
  {
   "cell_type": "code",
   "execution_count": null,
   "metadata": {
    "collapsed": true
   },
   "outputs": [],
   "source": []
  }
 ],
 "metadata": {
  "colab": {
   "collapsed_sections": [
    "jMJq3v4r_-Yq",
    "LZf0zeO8B_q9",
    "6ukvybAGANtP",
    "S185RffKB3T4"
   ],
   "default_view": {},
   "name": "ensembles.ipynb",
   "provenance": [],
   "version": "0.3.2",
   "views": {}
  },
  "kernelspec": {
   "display_name": "Python 3",
   "language": "python",
   "name": "python3"
  },
  "language_info": {
   "codemirror_mode": {
    "name": "ipython",
    "version": 3
   },
   "file_extension": ".py",
   "mimetype": "text/x-python",
   "name": "python",
   "nbconvert_exporter": "python",
   "pygments_lexer": "ipython3",
   "version": "3.6.1"
  }
 },
 "nbformat": 4,
 "nbformat_minor": 1
}
