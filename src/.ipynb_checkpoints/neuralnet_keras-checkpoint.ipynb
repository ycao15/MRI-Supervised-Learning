{
 "cells": [
  {
   "cell_type": "markdown",
   "metadata": {
    "colab_type": "text",
    "id": "jMJq3v4r_-Yq"
   },
   "source": [
    "## Import Libraries"
   ]
  },
  {
   "cell_type": "code",
   "execution_count": 2,
   "metadata": {
    "colab": {
     "autoexec": {
      "startup": false,
      "wait_interval": 0
     },
     "base_uri": "https://localhost:8080/",
     "height": 54
    },
    "colab_type": "code",
    "executionInfo": {
     "elapsed": 1254,
     "status": "ok",
     "timestamp": 1527027851859,
     "user": {
      "displayName": "YUCHING CAO",
      "photoUrl": "https://lh3.googleusercontent.com/a/default-user=s128",
      "userId": "114408907584152638865"
     },
     "user_tz": 420
    },
    "id": "wOwBRIs8_ZIC",
    "outputId": "761b1c49-8007-4d61-e931-f6b3eb848886"
   },
   "outputs": [
    {
     "name": "stderr",
     "output_type": "stream",
     "text": [
      "Using TensorFlow backend.\n"
     ]
    }
   ],
   "source": [
    "import numpy as np\n",
    "from data import load_data\n",
    "\n",
    "from keras.models import Sequential\n",
    "from keras.layers import Dense, Dropout\n",
    "from keras.wrappers.scikit_learn import KerasClassifier"
   ]
  },
  {
   "cell_type": "markdown",
   "metadata": {
    "colab_type": "text",
    "id": "7LsdcfoTz3OS"
   },
   "source": [
    "## Create the model"
   ]
  },
  {
   "cell_type": "code",
   "execution_count": 22,
   "metadata": {
    "colab": {
     "autoexec": {
      "startup": false,
      "wait_interval": 0
     },
     "base_uri": "https://localhost:8080/",
     "height": 51
    },
    "colab_type": "code",
    "executionInfo": {
     "elapsed": 376,
     "status": "ok",
     "timestamp": 1527028090861,
     "user": {
      "displayName": "YUCHING CAO",
      "photoUrl": "https://lh3.googleusercontent.com/a/default-user=s128",
      "userId": "114408907584152638865"
     },
     "user_tz": 420
    },
    "id": "iWHrAhJ-z9Dp",
    "outputId": "cf58df14-7eb9-401f-ba8c-335f9c10d585"
   },
   "outputs": [
    {
     "name": "stdout",
     "output_type": "stream",
     "text": [
      "CPU times: user 128 ms, sys: 3 ms, total: 131 ms\n",
      "Wall time: 135 ms\n"
     ]
    }
   ],
   "source": [
    "def create_model():\n",
    "  model = Sequential()\n",
    "  model.add(Dense(units=100, input_dim=X_train_svd.shape[1], activation='relu')) # 85\n",
    "  model.add(Dropout(0.02)) # 0.025\n",
    "  model.add(Dense(units=50, activation='relu')) # 34\n",
    "  model.add(Dropout(0.02)) \n",
    "  model.add(Dense(units=1, activation='sigmoid'))\n",
    "\n",
    "  model.compile(loss='binary_crossentropy', optimizer='rmsprop', metrics=['accuracy'])\n",
    "  return model"
   ]
  },
  {
   "cell_type": "markdown",
   "metadata": {
    "colab_type": "text",
    "id": "1Aa2HTvJKzau"
   },
   "source": [
    "## Evaluate the model"
   ]
  },
  {
   "cell_type": "code",
   "execution_count": 0,
   "metadata": {
    "colab": {
     "autoexec": {
      "startup": false,
      "wait_interval": 0
     }
    },
    "colab_type": "code",
    "collapsed": true,
    "id": "kQpHb6Whjc_h"
   },
   "outputs": [],
   "source": [
    "X_train_svd, X_test_svd, y_train, y_test = load_data()\n",
    "model = create_model()"
   ]
  },
  {
   "cell_type": "code",
   "execution_count": 23,
   "metadata": {
    "colab": {
     "autoexec": {
      "startup": false,
      "wait_interval": 0
     },
     "base_uri": "https://localhost:8080/",
     "height": 102
    },
    "colab_type": "code",
    "executionInfo": {
     "elapsed": 14696,
     "status": "ok",
     "timestamp": 1527028105657,
     "user": {
      "displayName": "YUCHING CAO",
      "photoUrl": "https://lh3.googleusercontent.com/a/default-user=s128",
      "userId": "114408907584152638865"
     },
     "user_tz": 420
    },
    "id": "w676OFh78-oT",
    "outputId": "a9d44be7-d759-431c-a063-a27ae86bafb5"
   },
   "outputs": [
    {
     "name": "stdout",
     "output_type": "stream",
     "text": [
      "15000/15000 [==============================] - 0s 20us/step\n",
      "score: 0.952333\n",
      "loss: 0.133403\n",
      "CPU times: user 16.5 s, sys: 2.79 s, total: 19.3 s\n",
      "Wall time: 14.4 s\n"
     ]
    }
   ],
   "source": [
    "%%time \n",
    "\n",
    "model.fit(X_train_svd, y_train, epochs=13, batch_size=200, verbose=0)\n",
    "score = model.evaluate(X_test_svd, y_test, batch_size=200)\n",
    "\n",
    "print(\"score: %f\" % score[1])\n",
    "print(\"loss: %f\" % score[0])"
   ]
  },
  {
   "cell_type": "markdown",
   "metadata": {
    "colab_type": "text",
    "id": "5ZLFxLPVeram"
   },
   "source": [
    "## Logistic Regression"
   ]
  },
  {
   "cell_type": "code",
   "execution_count": 0,
   "metadata": {
    "colab": {
     "autoexec": {
      "startup": false,
      "wait_interval": 0
     }
    },
    "colab_type": "code",
    "collapsed": true,
    "id": "vxfJXaNSeuL8"
   },
   "outputs": [],
   "source": [
    "log = Sequential()\n",
    "log.add(Dense(units=1, input_dim=X_train_svd.shape[1], activation='sigmoid'))\n",
    "log.compile(loss='binary_crossentropy', optimizer='rmsprop', metrics=['accuracy'])"
   ]
  },
  {
   "cell_type": "code",
   "execution_count": 25,
   "metadata": {
    "colab": {
     "autoexec": {
      "startup": false,
      "wait_interval": 0
     },
     "base_uri": "https://localhost:8080/",
     "height": 102
    },
    "colab_type": "code",
    "executionInfo": {
     "elapsed": 12650,
     "status": "ok",
     "timestamp": 1527028166967,
     "user": {
      "displayName": "YUCHING CAO",
      "photoUrl": "https://lh3.googleusercontent.com/a/default-user=s128",
      "userId": "114408907584152638865"
     },
     "user_tz": 420
    },
    "id": "-NNFVOFhe8hA",
    "outputId": "01f84495-e560-4157-987d-61da57b04f4d"
   },
   "outputs": [
    {
     "name": "stdout",
     "output_type": "stream",
     "text": [
      "15000/15000 [==============================] - 0s 19us/step\n",
      "score: 0.823733\n",
      "loss: 0.388636\n",
      "CPU times: user 15 s, sys: 2.32 s, total: 17.4 s\n",
      "Wall time: 12.4 s\n"
     ]
    }
   ],
   "source": [
    "%%time\n",
    "log.fit(X_train_svd, y_train, epochs=15, batch_size=200, verbose=0) #, validation_data=(X_test, y_test))\n",
    "score = log.evaluate(X_test_svd, y_test, batch_size=200)\n",
    "print(\"score: %f\" % score[1])\n",
    "print(\"loss: %f\" % score[0])"
   ]
  },
  {
   "cell_type": "code",
   "execution_count": 0,
   "metadata": {
    "colab": {
     "autoexec": {
      "startup": false,
      "wait_interval": 0
     }
    },
    "colab_type": "code",
    "collapsed": true,
    "id": "co2Xg3Ol1EfA"
   },
   "outputs": [],
   "source": []
  }
 ],
 "metadata": {
  "accelerator": "GPU",
  "colab": {
   "collapsed_sections": [
    "jMJq3v4r_-Yq",
    "LZf0zeO8B_q9",
    "6ukvybAGANtP",
    "MYlw_B9H2fm6"
   ],
   "default_view": {},
   "name": "neuralnet_keras.ipynb",
   "provenance": [],
   "version": "0.3.2",
   "views": {}
  },
  "kernelspec": {
   "display_name": "Python 3",
   "language": "python",
   "name": "python3"
  },
  "language_info": {
   "codemirror_mode": {
    "name": "ipython",
    "version": 3
   },
   "file_extension": ".py",
   "mimetype": "text/x-python",
   "name": "python",
   "nbconvert_exporter": "python",
   "pygments_lexer": "ipython3",
   "version": "3.6.1"
  }
 },
 "nbformat": 4,
 "nbformat_minor": 1
}
