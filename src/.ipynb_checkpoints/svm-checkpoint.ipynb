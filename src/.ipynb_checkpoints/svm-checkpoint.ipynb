{
 "cells": [
  {
   "cell_type": "markdown",
   "metadata": {
    "colab_type": "text",
    "id": "jMJq3v4r_-Yq"
   },
   "source": [
    "## Import Libraries"
   ]
  },
  {
   "cell_type": "code",
   "execution_count": 0,
   "metadata": {
    "colab": {
     "autoexec": {
      "startup": false,
      "wait_interval": 0
     }
    },
    "colab_type": "code",
    "collapsed": true,
    "id": "wOwBRIs8_ZIC"
   },
   "outputs": [],
   "source": [
    "import numpy as np\n",
    "import scipy.stats\n",
    "from data import load_data\n",
    "\n",
    "from sklearn.model_selection import RandomizedSearchCV\n",
    "from sklearn.svm import SVC"
   ]
  },
  {
   "cell_type": "markdown",
   "metadata": {
    "colab_type": "text",
    "id": "LZf0zeO8B_q9"
   },
   "source": [
    "## Load Data"
   ]
  },
  {
   "cell_type": "code",
   "execution_count": 0,
   "metadata": {
    "colab": {
     "autoexec": {
      "startup": false,
      "wait_interval": 0
     }
    },
    "colab_type": "code",
    "collapsed": true,
    "id": "GK4h9WTvCEDz"
   },
   "outputs": [],
   "source": [
    "X_train_svd, X_test_svd, y_train, y_test = load_data()"
   ]
  },
  {
   "cell_type": "markdown",
   "metadata": {
    "colab_type": "text",
    "id": "1Aa2HTvJKzau"
   },
   "source": [
    "## Randomized Search to find the optimal parameters"
   ]
  },
  {
   "cell_type": "code",
   "execution_count": 19,
   "metadata": {
    "colab": {
     "autoexec": {
      "startup": false,
      "wait_interval": 0
     },
     "base_uri": "https://localhost:8080/",
     "height": 51
    },
    "colab_type": "code",
    "executionInfo": {
     "elapsed": 309,
     "status": "ok",
     "timestamp": 1527033565968,
     "user": {
      "displayName": "YUCHING CAO",
      "photoUrl": "https://lh3.googleusercontent.com/a/default-user=s128",
      "userId": "114408907584152638865"
     },
     "user_tz": 420
    },
    "id": "1FfBP_7RLy-P",
    "outputId": "0e774442-3d68-42b3-dc17-cbbf5e09b6f3"
   },
   "outputs": [
    {
     "name": "stdout",
     "output_type": "stream",
     "text": [
      "CPU times: user 1e+03 µs, sys: 0 ns, total: 1e+03 µs\n",
      "Wall time: 1.45 ms\n"
     ]
    }
   ],
   "source": [
    "random_parameters = {\n",
    "    #'kernel': ['rbf', 'linear', 'poly', 'sigmoid'],\n",
    "    'C': scipy.stats.expon(scale=10),\n",
    "    'gamma': scipy.stats.expon(scale=0.01)\n",
    "}\n",
    "\n",
    "clf = RandomizedSearchCV(SVC(kernel='rbf'), random_parameters, cv=5, scoring='accuracy')\n",
    "clf.fit(X_train_svd, y_train)\n",
    "print(\"Best parameters:\\t\")\n",
    "print(clf.best_params_)"
   ]
  },
  {
   "cell_type": "markdown",
   "metadata": {
    "colab_type": "text",
    "id": "e1Nyy3F0jCSZ"
   },
   "source": [
    "## Evaluate the classifier"
   ]
  },
  {
   "cell_type": "code",
   "execution_count": 0,
   "metadata": {
    "colab": {
     "autoexec": {
      "startup": false,
      "wait_interval": 0
     }
    },
    "colab_type": "code",
    "collapsed": true,
    "id": "E0_V7_LQjFWx"
   },
   "outputs": [],
   "source": [
    "clf = SVC(C=14.24, gamma=0.015, kernel='rbf')"
   ]
  },
  {
   "cell_type": "code",
   "execution_count": 20,
   "metadata": {
    "colab": {
     "autoexec": {
      "startup": false,
      "wait_interval": 0
     },
     "base_uri": "https://localhost:8080/",
     "height": 68
    },
    "colab_type": "code",
    "executionInfo": {
     "elapsed": 1608,
     "status": "ok",
     "timestamp": 1527033568045,
     "user": {
      "displayName": "YUCHING CAO",
      "photoUrl": "https://lh3.googleusercontent.com/a/default-user=s128",
      "userId": "114408907584152638865"
     },
     "user_tz": 420
    },
    "id": "dZS_nRUNP0nf",
    "outputId": "687c89f3-e87f-4a8c-9c2d-5217c4c9f033"
   },
   "outputs": [
    {
     "name": "stdout",
     "output_type": "stream",
     "text": [
      "SVM score: 0.912000\n",
      "CPU times: user 1.31 s, sys: 1e+03 µs, total: 1.32 s\n",
      "Wall time: 1.32 s\n"
     ]
    }
   ],
   "source": [
    "%%time\n",
    "clf.fit(X_train_svd, y_train)\n",
    "print(\"SVM score: %f\" % clf.score(X_test_svd, y_test))"
   ]
  },
  {
   "cell_type": "markdown",
   "metadata": {
    "colab_type": "text",
    "id": "tMZ2J3AYx-ny"
   },
   "source": [
    "## Save the classifier"
   ]
  },
  {
   "cell_type": "code",
   "execution_count": 0,
   "metadata": {
    "colab": {
     "autoexec": {
      "startup": false,
      "wait_interval": 0
     }
    },
    "colab_type": "code",
    "collapsed": true,
    "id": "JzsmKuUxyECE"
   },
   "outputs": [],
   "source": [
    "from sklearn.externals import joblib\n",
    "joblib.dump(clf, 'svm.pkl')"
   ]
  },
  {
   "cell_type": "code",
   "execution_count": 0,
   "metadata": {
    "colab": {
     "autoexec": {
      "startup": false,
      "wait_interval": 0
     }
    },
    "colab_type": "code",
    "collapsed": true,
    "id": "ZWZwmqJO0c0p"
   },
   "outputs": [],
   "source": []
  }
 ],
 "metadata": {
  "colab": {
   "collapsed_sections": [
    "LZf0zeO8B_q9",
    "6ukvybAGANtP",
    "MOL7sRDwPVME"
   ],
   "default_view": {},
   "name": "svm.ipynb",
   "provenance": [],
   "version": "0.3.2",
   "views": {}
  },
  "kernelspec": {
   "display_name": "Python 3",
   "language": "python",
   "name": "python3"
  },
  "language_info": {
   "codemirror_mode": {
    "name": "ipython",
    "version": 3
   },
   "file_extension": ".py",
   "mimetype": "text/x-python",
   "name": "python",
   "nbconvert_exporter": "python",
   "pygments_lexer": "ipython3",
   "version": "3.6.1"
  }
 },
 "nbformat": 4,
 "nbformat_minor": 1
}
