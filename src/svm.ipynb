{
  "nbformat": 4,
  "nbformat_minor": 0,
  "metadata": {
    "colab": {
      "name": "svm.ipynb",
      "version": "0.3.2",
      "views": {},
      "default_view": {},
      "provenance": [],
      "collapsed_sections": [
        "LZf0zeO8B_q9",
        "6ukvybAGANtP",
        "MOL7sRDwPVME"
      ]
    },
    "kernelspec": {
      "name": "python3",
      "display_name": "Python 3"
    }
  },
  "cells": [
    {
      "metadata": {
        "id": "jMJq3v4r_-Yq",
        "colab_type": "text"
      },
      "cell_type": "markdown",
      "source": [
        "## Import Libraries"
      ]
    },
    {
      "metadata": {
        "id": "wOwBRIs8_ZIC",
        "colab_type": "code",
        "colab": {
          "autoexec": {
            "startup": false,
            "wait_interval": 0
          }
        }
      },
      "cell_type": "code",
      "source": [
        "import numpy as np\n",
        "import scipy.stats\n",
        "\n",
        "from sklearn import preprocessing\n",
        "from sklearn.preprocessing import StandardScaler\n",
        "from sklearn.model_selection import train_test_split, GridSearchCV, RandomizedSearchCV\n",
        "from sklearn.svm import SVC"
      ],
      "execution_count": 0,
      "outputs": []
    },
    {
      "metadata": {
        "id": "LZf0zeO8B_q9",
        "colab_type": "text"
      },
      "cell_type": "markdown",
      "source": [
        "## Setup File Reading From Google Drive"
      ]
    },
    {
      "metadata": {
        "id": "GK4h9WTvCEDz",
        "colab_type": "code",
        "colab": {
          "autoexec": {
            "startup": false,
            "wait_interval": 0
          }
        }
      },
      "cell_type": "code",
      "source": [
        "!pip install -U -q PyDrive\n",
        "# !gcloud config set project\n",
        "import os\n",
        "from pydrive.auth import GoogleAuth\n",
        "from pydrive.drive import GoogleDrive\n",
        "from google.colab import auth\n",
        "from oauth2client.client import GoogleCredentials\n",
        "\n",
        "# 1. Authenticate and create the PyDrive client.\n",
        "auth.authenticate_user()\n",
        "gauth = GoogleAuth()\n",
        "gauth.credentials = GoogleCredentials.get_application_default()\n",
        "drive = GoogleDrive(gauth)\n",
        "\n",
        "# choose a local (colab) directory to store the data.\n",
        "local_download_path = os.path.expanduser('./data')\n",
        "try:\n",
        "  os.makedirs(local_download_path)\n",
        "except: pass\n",
        "\n",
        "# 2. Auto-iterate using the query syntax\n",
        "#    https://developers.google.com/drive/v2/web/search-parameters\n",
        "file_list = drive.ListFile(\n",
        "    {'q': \"'1FjWwOPe1_f3tSHEAg4FlDlX0-D2YjJc4' in parents\"}).GetList()\n",
        "\n",
        "fname = ''\n",
        "for f in file_list:\n",
        "  # 3. Create & download by id.\n",
        "  if f['title'] == 'train_data_final_50k.csv':\n",
        "    #print('title: %s, id: %s' % (f['title'], f['id']))\n",
        "    fname = os.path.join(local_download_path, f['title'])\n",
        "    #print('downloading to {}'.format(fname))\n",
        "    f_ = drive.CreateFile({'id': f['id']})\n",
        "    f_.GetContentFile(fname)"
      ],
      "execution_count": 0,
      "outputs": []
    },
    {
      "metadata": {
        "id": "6ukvybAGANtP",
        "colab_type": "text"
      },
      "cell_type": "markdown",
      "source": [
        "## Get the Data"
      ]
    },
    {
      "metadata": {
        "id": "O_O4dWR7AMQg",
        "colab_type": "code",
        "colab": {
          "autoexec": {
            "startup": false,
            "wait_interval": 0
          },
          "base_uri": "https://localhost:8080/",
          "height": 51
        },
        "outputId": "153de704-3f8f-4df7-cfe8-d6a86eab4d0c",
        "executionInfo": {
          "status": "ok",
          "timestamp": 1527032852062,
          "user_tz": 420,
          "elapsed": 3524,
          "user": {
            "displayName": "YUCHING CAO",
            "photoUrl": "https://lh3.googleusercontent.com/a/default-user=s128",
            "userId": "114408907584152638865"
          }
        }
      },
      "cell_type": "code",
      "source": [
        "DATA_FILE = fname\n",
        "DATA_SIZE = 50000\n",
        "num_data_points = 5000\n",
        "\n",
        "skip_rows = DATA_SIZE - num_data_points\n",
        "\n",
        "data = np.loadtxt(DATA_FILE, delimiter=',', skiprows=skip_rows, usecols=range(4,622))\n",
        "labels = np.loadtxt(DATA_FILE, delimiter=',', skiprows=skip_rows, usecols=622)\n",
        "X_train, X_test, y_train, y_test = train_test_split(data, labels, train_size=0.7, stratify=labels)\n",
        "\n",
        "scaler = StandardScaler()\n",
        "scaler.fit(X_train) # data = preprocessing.scale(data)\n",
        "X_train, X_test = scaler.transform(X_train), scaler.transform(X_test)\n"
      ],
      "execution_count": 3,
      "outputs": [
        {
          "output_type": "stream",
          "text": [
            "/usr/local/lib/python3.6/dist-packages/sklearn/model_selection/_split.py:2026: FutureWarning: From version 0.21, test_size will always complement train_size unless both are specified.\n",
            "  FutureWarning)\n"
          ],
          "name": "stderr"
        }
      ]
    },
    {
      "metadata": {
        "id": "MOL7sRDwPVME",
        "colab_type": "text"
      },
      "cell_type": "markdown",
      "source": [
        "## Reduce Dimensionality"
      ]
    },
    {
      "metadata": {
        "id": "lTWRW0AdPYsS",
        "colab_type": "code",
        "colab": {
          "autoexec": {
            "startup": false,
            "wait_interval": 0
          }
        }
      },
      "cell_type": "code",
      "source": [
        "from sklearn import random_projection\n",
        "from sklearn.decomposition import TruncatedSVD\n",
        "\n",
        "svd = TruncatedSVD(n_components=90)\n",
        "X_train_svd = svd.fit_transform(X_train)\n",
        "X_test_svd = svd.transform(X_test)"
      ],
      "execution_count": 0,
      "outputs": []
    },
    {
      "metadata": {
        "id": "1Aa2HTvJKzau",
        "colab_type": "text"
      },
      "cell_type": "markdown",
      "source": [
        "## Randomized Search to find the optimal parameters"
      ]
    },
    {
      "metadata": {
        "id": "1FfBP_7RLy-P",
        "colab_type": "code",
        "colab": {
          "autoexec": {
            "startup": false,
            "wait_interval": 0
          },
          "base_uri": "https://localhost:8080/",
          "height": 51
        },
        "outputId": "0e774442-3d68-42b3-dc17-cbbf5e09b6f3",
        "executionInfo": {
          "status": "ok",
          "timestamp": 1527033565968,
          "user_tz": 420,
          "elapsed": 309,
          "user": {
            "displayName": "YUCHING CAO",
            "photoUrl": "https://lh3.googleusercontent.com/a/default-user=s128",
            "userId": "114408907584152638865"
          }
        }
      },
      "cell_type": "code",
      "source": [
        "random_parameters = {\n",
        "    #'kernel': ['rbf', 'linear', 'poly', 'sigmoid'],\n",
        "    'C': scipy.stats.expon(scale=10),\n",
        "    'gamma': scipy.stats.expon(scale=0.01)\n",
        "}\n",
        "\n",
        "clf = RandomizedSearchCV(SVC(kernel='rbf'), random_parameters, cv=5, scoring='accuracy')\n",
        "clf.fit(X_train_svd, y_train)\n",
        "print(\"Best parameters:\\t\")\n",
        "print(clf.best_params_)"
      ],
      "execution_count": 19,
      "outputs": [
        {
          "output_type": "stream",
          "text": [
            "CPU times: user 1e+03 µs, sys: 0 ns, total: 1e+03 µs\n",
            "Wall time: 1.45 ms\n"
          ],
          "name": "stdout"
        }
      ]
    },
    {
      "metadata": {
        "id": "e1Nyy3F0jCSZ",
        "colab_type": "text"
      },
      "cell_type": "markdown",
      "source": [
        "## Evaluate the classifier"
      ]
    },
    {
      "metadata": {
        "id": "E0_V7_LQjFWx",
        "colab_type": "code",
        "colab": {
          "autoexec": {
            "startup": false,
            "wait_interval": 0
          }
        }
      },
      "cell_type": "code",
      "source": [
        "clf = SVC(C=14.24, gamma=0.015, kernel='rbf')"
      ],
      "execution_count": 0,
      "outputs": []
    },
    {
      "metadata": {
        "id": "dZS_nRUNP0nf",
        "colab_type": "code",
        "colab": {
          "autoexec": {
            "startup": false,
            "wait_interval": 0
          },
          "base_uri": "https://localhost:8080/",
          "height": 68
        },
        "outputId": "687c89f3-e87f-4a8c-9c2d-5217c4c9f033",
        "executionInfo": {
          "status": "ok",
          "timestamp": 1527033568045,
          "user_tz": 420,
          "elapsed": 1608,
          "user": {
            "displayName": "YUCHING CAO",
            "photoUrl": "https://lh3.googleusercontent.com/a/default-user=s128",
            "userId": "114408907584152638865"
          }
        }
      },
      "cell_type": "code",
      "source": [
        "%%time\n",
        "clf.fit(X_train_svd, y_train)\n",
        "print(\"SVM score: %f\" % clf.score(X_test_svd, y_test))"
      ],
      "execution_count": 20,
      "outputs": [
        {
          "output_type": "stream",
          "text": [
            "SVM score: 0.912000\n",
            "CPU times: user 1.31 s, sys: 1e+03 µs, total: 1.32 s\n",
            "Wall time: 1.32 s\n"
          ],
          "name": "stdout"
        }
      ]
    },
    {
      "metadata": {
        "id": "tMZ2J3AYx-ny",
        "colab_type": "text"
      },
      "cell_type": "markdown",
      "source": [
        "## Save the classifier"
      ]
    },
    {
      "metadata": {
        "id": "JzsmKuUxyECE",
        "colab_type": "code",
        "colab": {
          "autoexec": {
            "startup": false,
            "wait_interval": 0
          }
        }
      },
      "cell_type": "code",
      "source": [
        "from sklearn.externals import joblib\n",
        "from google.colab import files\n",
        "\n",
        "f = open('svm.txt', 'a')\n",
        "f.write(str(clf.best_params_))\n",
        "files.download('svm.txt')\n",
        "f.close()\n",
        "\n",
        "joblib.dump(clf, 'svm.pkl')\n",
        "files.download('svm.pkl')"
      ],
      "execution_count": 0,
      "outputs": []
    },
    {
      "metadata": {
        "id": "ZWZwmqJO0c0p",
        "colab_type": "code",
        "colab": {
          "autoexec": {
            "startup": false,
            "wait_interval": 0
          }
        }
      },
      "cell_type": "code",
      "source": [
        ""
      ],
      "execution_count": 0,
      "outputs": []
    }
  ]
}