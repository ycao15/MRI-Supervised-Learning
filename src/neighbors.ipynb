{
  "nbformat": 4,
  "nbformat_minor": 0,
  "metadata": {
    "colab": {
      "name": "neighbors.ipynb",
      "version": "0.3.2",
      "views": {},
      "default_view": {},
      "provenance": [],
      "collapsed_sections": [
        "jMJq3v4r_-Yq",
        "LZf0zeO8B_q9",
        "6ukvybAGANtP",
        "8u2YmTKC6PTX"
      ]
    },
    "kernelspec": {
      "name": "python3",
      "display_name": "Python 3"
    }
  },
  "cells": [
    {
      "metadata": {
        "id": "jMJq3v4r_-Yq",
        "colab_type": "text"
      },
      "cell_type": "markdown",
      "source": [
        "## Import Libraries"
      ]
    },
    {
      "metadata": {
        "id": "wOwBRIs8_ZIC",
        "colab_type": "code",
        "colab": {
          "autoexec": {
            "startup": false,
            "wait_interval": 0
          }
        }
      },
      "cell_type": "code",
      "source": [
        "import numpy as np\n",
        "from scipy import stats\n",
        "\n",
        "from sklearn.neighbors import KNeighborsClassifier, NearestCentroid\n",
        "from sklearn.preprocessing import StandardScaler\n",
        "from sklearn.model_selection import train_test_split, RandomizedSearchCV\n",
        "\n",
        "from sklearn.externals import joblib\n",
        "from google.colab import files"
      ],
      "execution_count": 0,
      "outputs": []
    },
    {
      "metadata": {
        "id": "LZf0zeO8B_q9",
        "colab_type": "text"
      },
      "cell_type": "markdown",
      "source": [
        "## Setup File Reading From Google Drive"
      ]
    },
    {
      "metadata": {
        "id": "GK4h9WTvCEDz",
        "colab_type": "code",
        "colab": {
          "autoexec": {
            "startup": false,
            "wait_interval": 0
          }
        }
      },
      "cell_type": "code",
      "source": [
        "!pip install -U -q PyDrive\n",
        "# !gcloud config set project\n",
        "import os\n",
        "from pydrive.auth import GoogleAuth\n",
        "from pydrive.drive import GoogleDrive\n",
        "from google.colab import auth\n",
        "from oauth2client.client import GoogleCredentials\n",
        "\n",
        "# 1. Authenticate and create the PyDrive client.\n",
        "auth.authenticate_user()\n",
        "gauth = GoogleAuth()\n",
        "gauth.credentials = GoogleCredentials.get_application_default()\n",
        "drive = GoogleDrive(gauth)\n",
        "\n",
        "# choose a local (colab) directory to store the data.\n",
        "local_download_path = os.path.expanduser('./data')\n",
        "try:\n",
        "  os.makedirs(local_download_path)\n",
        "except: pass\n",
        "\n",
        "# 2. Auto-iterate using the query syntax\n",
        "#    https://developers.google.com/drive/v2/web/search-parameters\n",
        "file_list = drive.ListFile(\n",
        "    {'q': \"'1FjWwOPe1_f3tSHEAg4FlDlX0-D2YjJc4' in parents\"}).GetList()\n",
        "\n",
        "fname = ''\n",
        "for f in file_list:\n",
        "  # 3. Create & download by id.\n",
        "  if f['title'] == 'train_data_final_50k.csv':\n",
        "    #print('title: %s, id: %s' % (f['title'], f['id']))\n",
        "    fname = os.path.join(local_download_path, f['title'])\n",
        "    #print('downloading to {}'.format(fname))\n",
        "    f_ = drive.CreateFile({'id': f['id']})\n",
        "    f_.GetContentFile(fname)"
      ],
      "execution_count": 0,
      "outputs": []
    },
    {
      "metadata": {
        "id": "6ukvybAGANtP",
        "colab_type": "text"
      },
      "cell_type": "markdown",
      "source": [
        "## Get the Data"
      ]
    },
    {
      "metadata": {
        "id": "O_O4dWR7AMQg",
        "colab_type": "code",
        "colab": {
          "autoexec": {
            "startup": false,
            "wait_interval": 0
          },
          "base_uri": "https://localhost:8080/",
          "height": 71
        },
        "outputId": "dfc85a98-b639-4755-a043-e6648d6cc44b",
        "executionInfo": {
          "status": "ok",
          "timestamp": 1527031820258,
          "user_tz": 420,
          "elapsed": 23741,
          "user": {
            "displayName": "YUCHING CAO",
            "photoUrl": "https://lh3.googleusercontent.com/a/default-user=s128",
            "userId": "114408907584152638865"
          }
        }
      },
      "cell_type": "code",
      "source": [
        "DATA_FILE = fname\n",
        "DATA_SIZE = 50000\n",
        "num_data_points = 50000\n",
        "\n",
        "skip_rows = DATA_SIZE - num_data_points\n",
        "\n",
        "data = np.loadtxt(DATA_FILE, delimiter=',', skiprows=skip_rows, usecols=range(4,622))\n",
        "labels = np.loadtxt(DATA_FILE, delimiter=',', skiprows=skip_rows, usecols=622)\n",
        "X_train, X_test, y_train, y_test = train_test_split(data, labels, train_size=0.7, stratify=labels)\n",
        "\n",
        "scaler = StandardScaler()\n",
        "scaler.fit(X_train) # data = preprocessing.scale(data)\n",
        "X_train, X_test = scaler.transform(X_train), scaler.transform(X_test)"
      ],
      "execution_count": 4,
      "outputs": [
        {
          "output_type": "stream",
          "text": [
            "/usr/local/lib/python3.6/dist-packages/sklearn/model_selection/_split.py:2026: FutureWarning: From version 0.21, test_size will always complement train_size unless both are specified.\n",
            "  FutureWarning)\n"
          ],
          "name": "stderr"
        }
      ]
    },
    {
      "metadata": {
        "id": "8u2YmTKC6PTX",
        "colab_type": "text"
      },
      "cell_type": "markdown",
      "source": [
        "## Reduce Dimensionality"
      ]
    },
    {
      "metadata": {
        "id": "_YItFTJ76Spa",
        "colab_type": "code",
        "colab": {
          "autoexec": {
            "startup": false,
            "wait_interval": 0
          }
        }
      },
      "cell_type": "code",
      "source": [
        "from sklearn import random_projection\n",
        "from sklearn.decomposition import TruncatedSVD\n",
        "\n",
        "svd = TruncatedSVD(n_components=90)\n",
        "X_train_svd = svd.fit_transform(X_train)\n",
        "X_test_svd = svd.transform(X_test)"
      ],
      "execution_count": 0,
      "outputs": []
    },
    {
      "metadata": {
        "id": "1Aa2HTvJKzau",
        "colab_type": "text"
      },
      "cell_type": "markdown",
      "source": [
        "## Mini-Batch K-Nearest Neighbors"
      ]
    },
    {
      "metadata": {
        "id": "AbnmmtyeASaO",
        "colab_type": "code",
        "colab": {
          "autoexec": {
            "startup": false,
            "wait_interval": 0
          }
        }
      },
      "cell_type": "code",
      "source": [
        "parameters = {\n",
        "    'n_neighbors': stats.randint(1, 50),\n",
        "    'algorithm': ['ball_tree', 'kd_tree']\n",
        "}\n",
        "\n",
        "#knn = RandomizedSearchCV(KNeighborsClassifier(), parameters, cv=5)\n",
        "#knn = KNeighborsClassifier(n_neighbors=2, algorithm='ball_tree')"
      ],
      "execution_count": 0,
      "outputs": []
    },
    {
      "metadata": {
        "id": "5rxGBerpjndP",
        "colab_type": "text"
      },
      "cell_type": "markdown",
      "source": [
        "### Evaluate"
      ]
    },
    {
      "metadata": {
        "id": "nXAGKwm0jqpL",
        "colab_type": "code",
        "colab": {
          "autoexec": {
            "startup": false,
            "wait_interval": 0
          }
        }
      },
      "cell_type": "code",
      "source": [
        "knn = KNeighborsClassifier()"
      ],
      "execution_count": 0,
      "outputs": []
    },
    {
      "metadata": {
        "id": "CqtoYvvb6aLM",
        "colab_type": "code",
        "colab": {
          "autoexec": {
            "startup": false,
            "wait_interval": 0
          },
          "base_uri": "https://localhost:8080/",
          "height": 68
        },
        "outputId": "cb369b24-2816-4336-cab2-8ad5426b4e7f",
        "executionInfo": {
          "status": "ok",
          "timestamp": 1527031901334,
          "user_tz": 420,
          "elapsed": 13096,
          "user": {
            "displayName": "YUCHING CAO",
            "photoUrl": "https://lh3.googleusercontent.com/a/default-user=s128",
            "userId": "114408907584152638865"
          }
        }
      },
      "cell_type": "code",
      "source": [
        "%%time\n",
        "\n",
        "knn.fit(X_train_svd, y_train)\n",
        "print(\"KNN score: %f\" % knn.score(X_test_svd, y_test))"
      ],
      "execution_count": 9,
      "outputs": [
        {
          "output_type": "stream",
          "text": [
            "KNN score: 0.938400\n",
            "CPU times: user 12.6 s, sys: 0 ns, total: 12.6 s\n",
            "Wall time: 12.6 s\n"
          ],
          "name": "stdout"
        }
      ]
    },
    {
      "metadata": {
        "id": "kM6qO3JX9ybr",
        "colab_type": "text"
      },
      "cell_type": "markdown",
      "source": [
        "## Nearest Centroids"
      ]
    },
    {
      "metadata": {
        "id": "dVWqbiREK8dR",
        "colab_type": "code",
        "colab": {
          "autoexec": {
            "startup": false,
            "wait_interval": 0
          }
        }
      },
      "cell_type": "code",
      "source": [
        "centroid = NearestCentroid()"
      ],
      "execution_count": 0,
      "outputs": []
    },
    {
      "metadata": {
        "id": "ZSlPFSyw8fJE",
        "colab_type": "code",
        "colab": {
          "autoexec": {
            "startup": false,
            "wait_interval": 0
          },
          "base_uri": "https://localhost:8080/",
          "height": 68
        },
        "outputId": "3ba35553-6b80-4319-945a-a42454234646",
        "executionInfo": {
          "status": "ok",
          "timestamp": 1527029071768,
          "user_tz": 420,
          "elapsed": 316,
          "user": {
            "displayName": "YUCHING CAO",
            "photoUrl": "https://lh3.googleusercontent.com/a/default-user=s128",
            "userId": "114408907584152638865"
          }
        }
      },
      "cell_type": "code",
      "source": [
        "%%time\n",
        "centroid.fit(X_train_svd, y_train)\n",
        "print(\"Nearest Centroids score: %f\" % centroid.score(X_test_svd, y_test))"
      ],
      "execution_count": 14,
      "outputs": [
        {
          "output_type": "stream",
          "text": [
            "Nearest Centroids score: 0.694867\n",
            "CPU times: user 24 ms, sys: 1e+03 µs, total: 25 ms\n",
            "Wall time: 26.3 ms\n"
          ],
          "name": "stdout"
        }
      ]
    },
    {
      "metadata": {
        "id": "pulqnER0A_rs",
        "colab_type": "text"
      },
      "cell_type": "markdown",
      "source": [
        "## Save the KNN classifier"
      ]
    },
    {
      "metadata": {
        "id": "1FfBP_7RLy-P",
        "colab_type": "code",
        "colab": {
          "autoexec": {
            "startup": false,
            "wait_interval": 0
          },
          "base_uri": "https://localhost:8080/",
          "height": 34
        },
        "outputId": "74f17579-08f2-4c0c-8815-2d7e74ce7f41",
        "executionInfo": {
          "status": "ok",
          "timestamp": 1527028942689,
          "user_tz": 420,
          "elapsed": 355,
          "user": {
            "displayName": "YUCHING CAO",
            "photoUrl": "https://lh3.googleusercontent.com/a/default-user=s128",
            "userId": "114408907584152638865"
          }
        }
      },
      "cell_type": "code",
      "source": [
        "'''\n",
        "f = open('knn.txt', 'a')\n",
        "f.write(str(knn.best_params_))\n",
        "files.download('knn.txt')\n",
        "f.close()\n",
        "\n",
        "joblib.dump(clf, 'knn.pkl')\n",
        "files.download('knn.pkl')\n",
        "'''"
      ],
      "execution_count": 9,
      "outputs": [
        {
          "output_type": "execute_result",
          "data": {
            "text/plain": [
              "\"\\nf = open('knn.txt', 'a')\\nf.write(str(knn.best_params_))\\nfiles.download('knn.txt')\\nf.close()\\n\\njoblib.dump(clf, 'knn.pkl')\\nfiles.download('knn.pkl')\\n\""
            ]
          },
          "metadata": {
            "tags": []
          },
          "execution_count": 9
        }
      ]
    },
    {
      "metadata": {
        "id": "dL-1XRu6BLpe",
        "colab_type": "text"
      },
      "cell_type": "markdown",
      "source": [
        "## Save the Nearest Centroids classifier"
      ]
    },
    {
      "metadata": {
        "id": "s4dQicejBNnq",
        "colab_type": "code",
        "colab": {
          "autoexec": {
            "startup": false,
            "wait_interval": 0
          },
          "base_uri": "https://localhost:8080/",
          "height": 232
        },
        "outputId": "6aadb673-fc46-48de-e617-d2de7c29d481",
        "executionInfo": {
          "status": "error",
          "timestamp": 1527028943416,
          "user_tz": 420,
          "elapsed": 434,
          "user": {
            "displayName": "YUCHING CAO",
            "photoUrl": "https://lh3.googleusercontent.com/a/default-user=s128",
            "userId": "114408907584152638865"
          }
        }
      },
      "cell_type": "code",
      "source": [
        "f = open('nearest_centroids.txt', 'a')\n",
        "f.write(str(centroid.best_params_))\n",
        "files.download('nearest_centroids.txt')\n",
        "f.close()\n",
        "\n",
        "joblib.dump(clf, 'nearest_centroids.pkl')\n",
        "files.download('nearest_centroids.pkl')"
      ],
      "execution_count": 10,
      "outputs": [
        {
          "output_type": "error",
          "ename": "AttributeError",
          "evalue": "ignored",
          "traceback": [
            "\u001b[0;31m---------------------------------------------------------------------------\u001b[0m",
            "\u001b[0;31mAttributeError\u001b[0m                            Traceback (most recent call last)",
            "\u001b[0;32m<ipython-input-10-f4781067b656>\u001b[0m in \u001b[0;36m<module>\u001b[0;34m()\u001b[0m\n\u001b[1;32m      1\u001b[0m \u001b[0mf\u001b[0m \u001b[0;34m=\u001b[0m \u001b[0mopen\u001b[0m\u001b[0;34m(\u001b[0m\u001b[0;34m'nearest_centroids.txt'\u001b[0m\u001b[0;34m,\u001b[0m \u001b[0;34m'a'\u001b[0m\u001b[0;34m)\u001b[0m\u001b[0;34m\u001b[0m\u001b[0m\n\u001b[0;32m----> 2\u001b[0;31m \u001b[0mf\u001b[0m\u001b[0;34m.\u001b[0m\u001b[0mwrite\u001b[0m\u001b[0;34m(\u001b[0m\u001b[0mstr\u001b[0m\u001b[0;34m(\u001b[0m\u001b[0mcentroid\u001b[0m\u001b[0;34m.\u001b[0m\u001b[0mbest_params_\u001b[0m\u001b[0;34m)\u001b[0m\u001b[0;34m)\u001b[0m\u001b[0;34m\u001b[0m\u001b[0m\n\u001b[0m\u001b[1;32m      3\u001b[0m \u001b[0mfiles\u001b[0m\u001b[0;34m.\u001b[0m\u001b[0mdownload\u001b[0m\u001b[0;34m(\u001b[0m\u001b[0;34m'nearest_centroids.txt'\u001b[0m\u001b[0;34m)\u001b[0m\u001b[0;34m\u001b[0m\u001b[0m\n\u001b[1;32m      4\u001b[0m \u001b[0mf\u001b[0m\u001b[0;34m.\u001b[0m\u001b[0mclose\u001b[0m\u001b[0;34m(\u001b[0m\u001b[0;34m)\u001b[0m\u001b[0;34m\u001b[0m\u001b[0m\n\u001b[1;32m      5\u001b[0m \u001b[0;34m\u001b[0m\u001b[0m\n",
            "\u001b[0;31mAttributeError\u001b[0m: 'NearestCentroid' object has no attribute 'best_params_'"
          ]
        }
      ]
    }
  ]
}